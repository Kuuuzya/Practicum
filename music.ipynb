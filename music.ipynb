{
 "cells": [
  {
   "cell_type": "markdown",
   "metadata": {
    "deletable": false,
    "editable": false,
    "id": "E0vqbgi9ay0H"
   },
   "source": [
    "# Яндекс Музыка"
   ]
  },
  {
   "cell_type": "markdown",
   "metadata": {
    "deletable": false,
    "editable": false,
    "id": "VUC88oWjTJw2"
   },
   "source": [
    "Сравнение Москвы и Петербурга окружено мифами. Например:\n",
    " * Москва — мегаполис, подчинённый жёсткому ритму рабочей недели;\n",
    " * Петербург — культурная столица, со своими вкусами.\n",
    "\n",
    "На данных Яндекс Музыки вы сравните поведение пользователей двух столиц.\n",
    "\n",
    "**Цель исследования** — проверьте три гипотезы:\n",
    "1. Активность пользователей зависит от дня недели. Причём в Москве и Петербурге это проявляется по-разному.\n",
    "2. В понедельник утром в Москве преобладают одни жанры, а в Петербурге — другие. Так же и вечером пятницы преобладают разные жанры — в зависимости от города. \n",
    "3. Москва и Петербург предпочитают разные жанры музыки. В Москве чаще слушают поп-музыку, в Петербурге — русский рэп.\n",
    "\n",
    "**Ход исследования**\n",
    "\n",
    "Данные о поведении пользователей вы получите из файла `yandex_music_project.csv`. О качестве данных ничего не известно. Поэтому перед проверкой гипотез понадобится обзор данных. \n",
    "\n",
    "Вы проверите данные на ошибки и оцените их влияние на исследование. Затем, на этапе предобработки вы поищете возможность исправить самые критичные ошибки данных.\n",
    " \n",
    "Таким образом, исследование пройдёт в три этапа:\n",
    " 1. Обзор данных.\n",
    " 2. Предобработка данных.\n",
    " 3. Проверка гипотез.\n",
    "\n"
   ]
  },
  {
   "cell_type": "markdown",
   "metadata": {
    "deletable": false,
    "editable": false,
    "id": "Ml1hmfXC_Zcs"
   },
   "source": [
    "## Обзор данных\n",
    "\n",
    "Составьте первое представление о данных Яндекс Музыки.\n",
    "\n",
    "\n"
   ]
  },
  {
   "cell_type": "markdown",
   "metadata": {
    "deletable": false,
    "editable": false,
    "id": "57eAOGIz_Zcs",
    "tags": [
     "start_task"
    ]
   },
   "source": [
    "**Задание 1**\n",
    "\n",
    "Основной инструмент аналитика — `pandas`. Импортируйте эту библиотеку."
   ]
  },
  {
   "cell_type": "code",
   "execution_count": 1,
   "metadata": {
    "deletable": false,
    "id": "AXN7PHPN_Zcs"
   },
   "outputs": [],
   "source": [
    "# импорт библиотеки pandas\n",
    "import pandas as p"
   ]
  },
  {
   "cell_type": "markdown",
   "metadata": {
    "deletable": false,
    "editable": false,
    "id": "SG23P8tt_Zcs",
    "tags": [
     "start_task"
    ]
   },
   "source": [
    "**Задание 2**\n",
    "\n",
    "Прочитайте файл `yandex_music_project.csv` из папки `/datasets` и сохраните его в переменной `df`:"
   ]
  },
  {
   "cell_type": "code",
   "execution_count": 5,
   "metadata": {
    "deletable": false,
    "id": "fFVu7vqh_Zct"
   },
   "outputs": [],
   "source": [
    "# чтение файла с данными и сохранение в df\n",
    "df = p.read_csv('./yandex_music_project.csv')"
   ]
  },
  {
   "cell_type": "markdown",
   "metadata": {
    "deletable": false,
    "editable": false,
    "id": "rDoOMd3uTqnZ",
    "tags": [
     "start_task"
    ]
   },
   "source": [
    "**Задание 3**\n",
    "\n",
    "\n",
    "Выведите на экран первые десять строк таблицы:"
   ]
  },
  {
   "cell_type": "code",
   "execution_count": 6,
   "metadata": {
    "deletable": false,
    "id": "oWTVX3gW_Zct"
   },
   "outputs": [
    {
     "data": {
      "text/html": [
       "<div>\n",
       "<style scoped>\n",
       "    .dataframe tbody tr th:only-of-type {\n",
       "        vertical-align: middle;\n",
       "    }\n",
       "\n",
       "    .dataframe tbody tr th {\n",
       "        vertical-align: top;\n",
       "    }\n",
       "\n",
       "    .dataframe thead th {\n",
       "        text-align: right;\n",
       "    }\n",
       "</style>\n",
       "<table border=\"1\" class=\"dataframe\">\n",
       "  <thead>\n",
       "    <tr style=\"text-align: right;\">\n",
       "      <th></th>\n",
       "      <th>userID</th>\n",
       "      <th>Track</th>\n",
       "      <th>artist</th>\n",
       "      <th>genre</th>\n",
       "      <th>City</th>\n",
       "      <th>time</th>\n",
       "      <th>Day</th>\n",
       "    </tr>\n",
       "  </thead>\n",
       "  <tbody>\n",
       "    <tr>\n",
       "      <th>0</th>\n",
       "      <td>FFB692EC</td>\n",
       "      <td>Kamigata To Boots</td>\n",
       "      <td>The Mass Missile</td>\n",
       "      <td>rock</td>\n",
       "      <td>Saint-Petersburg</td>\n",
       "      <td>20:28:33</td>\n",
       "      <td>Wednesday</td>\n",
       "    </tr>\n",
       "    <tr>\n",
       "      <th>1</th>\n",
       "      <td>55204538</td>\n",
       "      <td>Delayed Because of Accident</td>\n",
       "      <td>Andreas Rönnberg</td>\n",
       "      <td>rock</td>\n",
       "      <td>Moscow</td>\n",
       "      <td>14:07:09</td>\n",
       "      <td>Friday</td>\n",
       "    </tr>\n",
       "    <tr>\n",
       "      <th>2</th>\n",
       "      <td>20EC38</td>\n",
       "      <td>Funiculì funiculà</td>\n",
       "      <td>Mario Lanza</td>\n",
       "      <td>pop</td>\n",
       "      <td>Saint-Petersburg</td>\n",
       "      <td>20:58:07</td>\n",
       "      <td>Wednesday</td>\n",
       "    </tr>\n",
       "    <tr>\n",
       "      <th>3</th>\n",
       "      <td>A3DD03C9</td>\n",
       "      <td>Dragons in the Sunset</td>\n",
       "      <td>Fire + Ice</td>\n",
       "      <td>folk</td>\n",
       "      <td>Saint-Petersburg</td>\n",
       "      <td>08:37:09</td>\n",
       "      <td>Monday</td>\n",
       "    </tr>\n",
       "    <tr>\n",
       "      <th>4</th>\n",
       "      <td>E2DC1FAE</td>\n",
       "      <td>Soul People</td>\n",
       "      <td>Space Echo</td>\n",
       "      <td>dance</td>\n",
       "      <td>Moscow</td>\n",
       "      <td>08:34:34</td>\n",
       "      <td>Monday</td>\n",
       "    </tr>\n",
       "    <tr>\n",
       "      <th>5</th>\n",
       "      <td>842029A1</td>\n",
       "      <td>Преданная</td>\n",
       "      <td>IMPERVTOR</td>\n",
       "      <td>rusrap</td>\n",
       "      <td>Saint-Petersburg</td>\n",
       "      <td>13:09:41</td>\n",
       "      <td>Friday</td>\n",
       "    </tr>\n",
       "    <tr>\n",
       "      <th>6</th>\n",
       "      <td>4CB90AA5</td>\n",
       "      <td>True</td>\n",
       "      <td>Roman Messer</td>\n",
       "      <td>dance</td>\n",
       "      <td>Moscow</td>\n",
       "      <td>13:00:07</td>\n",
       "      <td>Wednesday</td>\n",
       "    </tr>\n",
       "    <tr>\n",
       "      <th>7</th>\n",
       "      <td>F03E1C1F</td>\n",
       "      <td>Feeling This Way</td>\n",
       "      <td>Polina Griffith</td>\n",
       "      <td>dance</td>\n",
       "      <td>Moscow</td>\n",
       "      <td>20:47:49</td>\n",
       "      <td>Wednesday</td>\n",
       "    </tr>\n",
       "    <tr>\n",
       "      <th>8</th>\n",
       "      <td>8FA1D3BE</td>\n",
       "      <td>И вновь продолжается бой</td>\n",
       "      <td>NaN</td>\n",
       "      <td>ruspop</td>\n",
       "      <td>Moscow</td>\n",
       "      <td>09:17:40</td>\n",
       "      <td>Friday</td>\n",
       "    </tr>\n",
       "    <tr>\n",
       "      <th>9</th>\n",
       "      <td>E772D5C0</td>\n",
       "      <td>Pessimist</td>\n",
       "      <td>NaN</td>\n",
       "      <td>dance</td>\n",
       "      <td>Saint-Petersburg</td>\n",
       "      <td>21:20:49</td>\n",
       "      <td>Wednesday</td>\n",
       "    </tr>\n",
       "  </tbody>\n",
       "</table>\n",
       "</div>"
      ],
      "text/plain": [
       "     userID                        Track            artist   genre  \\\n",
       "0  FFB692EC            Kamigata To Boots  The Mass Missile    rock   \n",
       "1  55204538  Delayed Because of Accident  Andreas Rönnberg    rock   \n",
       "2    20EC38            Funiculì funiculà       Mario Lanza     pop   \n",
       "3  A3DD03C9        Dragons in the Sunset        Fire + Ice    folk   \n",
       "4  E2DC1FAE                  Soul People        Space Echo   dance   \n",
       "5  842029A1                    Преданная         IMPERVTOR  rusrap   \n",
       "6  4CB90AA5                         True      Roman Messer   dance   \n",
       "7  F03E1C1F             Feeling This Way   Polina Griffith   dance   \n",
       "8  8FA1D3BE     И вновь продолжается бой               NaN  ruspop   \n",
       "9  E772D5C0                    Pessimist               NaN   dance   \n",
       "\n",
       "             City        time        Day  \n",
       "0  Saint-Petersburg  20:28:33  Wednesday  \n",
       "1            Moscow  14:07:09     Friday  \n",
       "2  Saint-Petersburg  20:58:07  Wednesday  \n",
       "3  Saint-Petersburg  08:37:09     Monday  \n",
       "4            Moscow  08:34:34     Monday  \n",
       "5  Saint-Petersburg  13:09:41     Friday  \n",
       "6            Moscow  13:00:07  Wednesday  \n",
       "7            Moscow  20:47:49  Wednesday  \n",
       "8            Moscow  09:17:40     Friday  \n",
       "9  Saint-Petersburg  21:20:49  Wednesday  "
      ]
     },
     "execution_count": 6,
     "metadata": {},
     "output_type": "execute_result"
    }
   ],
   "source": [
    "# получение первых 10 строк таблицы df\n",
    "df.head(10)"
   ]
  },
  {
   "cell_type": "markdown",
   "metadata": {
    "deletable": false,
    "editable": false,
    "id": "EO73Kwic_Zct",
    "tags": [
     "start_task"
    ]
   },
   "source": [
    "**Задание 4**\n",
    "\n",
    "\n",
    "Одной командой получить общую информацию о таблице c помощью метода `info()`:"
   ]
  },
  {
   "cell_type": "code",
   "execution_count": 7,
   "metadata": {
    "deletable": false,
    "id": "DSf2kIb-_Zct"
   },
   "outputs": [
    {
     "name": "stdout",
     "output_type": "stream",
     "text": [
      "<class 'pandas.core.frame.DataFrame'>\n",
      "RangeIndex: 65079 entries, 0 to 65078\n",
      "Data columns (total 7 columns):\n",
      " #   Column    Non-Null Count  Dtype \n",
      "---  ------    --------------  ----- \n",
      " 0     userID  65079 non-null  object\n",
      " 1   Track     63848 non-null  object\n",
      " 2   artist    57876 non-null  object\n",
      " 3   genre     63881 non-null  object\n",
      " 4     City    65079 non-null  object\n",
      " 5   time      65079 non-null  object\n",
      " 6   Day       65079 non-null  object\n",
      "dtypes: object(7)\n",
      "memory usage: 3.5+ MB\n"
     ]
    }
   ],
   "source": [
    "# получение общей информации о данных в таблице df\n",
    "df.info()"
   ]
  },
  {
   "cell_type": "markdown",
   "metadata": {
    "deletable": false,
    "editable": false,
    "id": "TaQ2Iwbr_Zct"
   },
   "source": [
    "Итак, в таблице семь столбцов. Тип данных во всех столбцах — `object`.\n",
    "\n",
    "Согласно документации к данным:\n",
    "* `userID` — идентификатор пользователя;\n",
    "* `Track` — название трека;  \n",
    "* `artist` — имя исполнителя;\n",
    "* `genre` — название жанра;\n",
    "* `City` — город пользователя;\n",
    "* `time` — время начала прослушивания;\n",
    "* `Day` — день недели.\n",
    "\n",
    "Количество значений в столбцах различается. Значит, в данных есть пропущенные значения."
   ]
  },
  {
   "cell_type": "markdown",
   "metadata": {
    "deletable": false,
    "editable": false,
    "id": "rAfziTBDmf2h",
    "tags": [
     "start_task"
    ]
   },
   "source": [
    "**Задание 5**\n",
    "\n",
    "**Вопрос со свободной формой ответа**\n",
    "\n",
    "В названиях колонок видны нарушения стиля:\n",
    "* Строчные буквы сочетаются с прописными.\n",
    "* Встречаются пробелы.\n",
    "\n",
    "Какое третье нарушение?"
   ]
  },
  {
   "cell_type": "code",
   "execution_count": 8,
   "metadata": {
    "id": "jD8EXEIvmf2h"
   },
   "outputs": [],
   "source": [
    "# Напишите ваш ответ здесь комментарием. Не удаляйте символ #. Не меняйте тип этой ячейки на Markdown.\n",
    "# не используется змеиный регистр"
   ]
  },
  {
   "cell_type": "markdown",
   "metadata": {
    "deletable": false,
    "editable": false,
    "id": "MCB6-dXG_Zct"
   },
   "source": [
    "**Выводы**\n",
    "\n",
    "В каждой строке таблицы — данные о прослушанном треке. Часть колонок описывает саму композицию: название, исполнителя и жанр. Остальные данные рассказывают о пользователе: из какого он города, когда он слушал музыку. \n",
    "\n",
    "Предварительно можно утверждать, что данных достаточно для проверки гипотез. Но встречаются пропуски в данных, а в названиях колонок — расхождения с хорошим стилем.\n",
    "\n",
    "Чтобы двигаться дальше, нужно устранить проблемы в данных."
   ]
  },
  {
   "cell_type": "markdown",
   "metadata": {
    "deletable": false,
    "editable": false,
    "id": "SjYF6Ub9_Zct"
   },
   "source": [
    "## Предобработка данных\n",
    "Исправьте стиль в заголовках столбцов, исключите пропуски. Затем проверьте данные на дубликаты."
   ]
  },
  {
   "cell_type": "markdown",
   "metadata": {
    "deletable": false,
    "editable": false,
    "id": "dIaKXr29_Zct",
    "tags": [
     "start_task"
    ]
   },
   "source": [
    "### Стиль заголовков\n",
    "\n",
    "**Задание 6**\n",
    "\n",
    "Выведите на экран названия столбцов:"
   ]
  },
  {
   "cell_type": "code",
   "execution_count": 9,
   "metadata": {
    "deletable": false,
    "id": "oKOTdF_Q_Zct"
   },
   "outputs": [
    {
     "data": {
      "text/plain": [
       "Index(['  userID', 'Track', 'artist', 'genre', '  City  ', 'time', 'Day'], dtype='object')"
      ]
     },
     "execution_count": 9,
     "metadata": {},
     "output_type": "execute_result"
    }
   ],
   "source": [
    "# перечень названий столбцов таблицы df\n",
    "df.columns"
   ]
  },
  {
   "cell_type": "markdown",
   "metadata": {
    "deletable": false,
    "editable": false,
    "id": "zj5534cv_Zct",
    "tags": [
     "start_task"
    ]
   },
   "source": [
    "**Задание 7**\n",
    "\n",
    "\n",
    "Приведите названия в соответствие с хорошим стилем:\n",
    "* несколько слов в названии запишите в «змеином_регистре»,\n",
    "* все символы сделайте строчными,\n",
    "* устраните пробелы.\n",
    "\n",
    "Для этого переименуйте колонки так:\n",
    "* `'  userID'` → `'user_id'`;\n",
    "* `'Track'` → `'track'`;\n",
    "* `'  City  '` → `'city'`;\n",
    "* `'Day'` → `'day'`."
   ]
  },
  {
   "cell_type": "code",
   "execution_count": 10,
   "metadata": {
    "deletable": false,
    "id": "ISlFqs5y_Zct"
   },
   "outputs": [],
   "source": [
    "# переименование столбцов\n",
    "df = df.rename(\n",
    "    columns={\n",
    "        '  userID': 'user_id',\n",
    "        'Track': 'track',\n",
    "        '  City  ': 'city',\n",
    "        'Day': 'day',\n",
    "    }\n",
    ")"
   ]
  },
  {
   "cell_type": "markdown",
   "metadata": {
    "deletable": false,
    "editable": false,
    "id": "1dqbh00J_Zct",
    "tags": [
     "start_task"
    ]
   },
   "source": [
    "**Задание 8**\n",
    "\n",
    "\n",
    "Проверьте результат. Для этого ещё раз выведите на экран названия столбцов:"
   ]
  },
  {
   "cell_type": "code",
   "execution_count": 11,
   "metadata": {
    "deletable": false,
    "id": "d4NOAmTW_Zct"
   },
   "outputs": [
    {
     "data": {
      "text/plain": [
       "Index(['user_id', 'track', 'artist', 'genre', 'city', 'time', 'day'], dtype='object')"
      ]
     },
     "execution_count": 11,
     "metadata": {},
     "output_type": "execute_result"
    }
   ],
   "source": [
    "# проверка результатов - перечень названий столбцов\n",
    "df.columns"
   ]
  },
  {
   "cell_type": "markdown",
   "metadata": {
    "deletable": false,
    "editable": false,
    "id": "5ISfbcfY_Zct",
    "tags": [
     "start_task"
    ]
   },
   "source": [
    "### Пропуски значений\n",
    "\n",
    "**Задание 9**\n",
    "\n",
    "Сначала посчитайте, сколько в таблице пропущенных значений. Для этого достаточно двух методов `pandas`:"
   ]
  },
  {
   "cell_type": "code",
   "execution_count": 12,
   "metadata": {
    "deletable": false,
    "id": "RskX29qr_Zct"
   },
   "outputs": [
    {
     "data": {
      "text/plain": [
       "user_id       0\n",
       "track      1231\n",
       "artist     7203\n",
       "genre      1198\n",
       "city          0\n",
       "time          0\n",
       "day           0\n",
       "dtype: int64"
      ]
     },
     "execution_count": 12,
     "metadata": {},
     "output_type": "execute_result"
    }
   ],
   "source": [
    "# подсчёт пропусков\n",
    "df.isna().sum()"
   ]
  },
  {
   "cell_type": "markdown",
   "metadata": {
    "deletable": false,
    "editable": false,
    "id": "qubhgnlO_Zct"
   },
   "source": [
    "Не все пропущенные значения влияют на исследование. Так в `track` и `artist` пропуски не важны для вашей работы. Достаточно заменить их явными обозначениями.\n",
    "\n",
    "Но пропуски в `genre` могут помешать сравнению музыкальных вкусов в Москве и Санкт-Петербурге. На практике было бы правильно установить причину пропусков и восстановить данные. Такой возможности нет в учебном проекте. Придётся:\n",
    "* заполнить и эти пропуски явными обозначениями;\n",
    "* оценить, насколько они повредят расчётам. "
   ]
  },
  {
   "cell_type": "markdown",
   "metadata": {
    "deletable": false,
    "editable": false,
    "id": "fSv2laPA_Zct",
    "tags": [
     "start_task"
    ]
   },
   "source": [
    "**Задание 10**\n",
    "\n",
    "Замените пропущенные значения в столбцах `track`, `artist` и `genre` на строку `'unknown'`. Для этого создайте список `columns_to_replace`, переберите его элементы циклом `for` и для каждого столбца выполните замену пропущенных значений:"
   ]
  },
  {
   "cell_type": "code",
   "execution_count": 13,
   "metadata": {
    "deletable": false,
    "id": "KplB5qWs_Zct"
   },
   "outputs": [],
   "source": [
    "# перебор названий столбцов в цикле и замена пропущенных значений на 'unknown'\n",
    "\n",
    "columns_to_replace = ['track','artist','genre']\n",
    "for i in columns_to_replace:\n",
    "    df[i] = df[i].fillna('unknown')\n"
   ]
  },
  {
   "cell_type": "markdown",
   "metadata": {
    "deletable": false,
    "editable": false,
    "id": "Ilsm-MZo_Zct",
    "tags": [
     "start_task"
    ]
   },
   "source": [
    "**Задание 11**\n",
    "\n",
    "Убедитесь, что в таблице не осталось пропусков. Для этого ещё раз посчитайте пропущенные значения."
   ]
  },
  {
   "cell_type": "code",
   "execution_count": 14,
   "metadata": {
    "deletable": false,
    "id": "Tq4nYRX4_Zct"
   },
   "outputs": [
    {
     "data": {
      "text/plain": [
       "user_id    0\n",
       "track      0\n",
       "artist     0\n",
       "genre      0\n",
       "city       0\n",
       "time       0\n",
       "day        0\n",
       "dtype: int64"
      ]
     },
     "execution_count": 14,
     "metadata": {},
     "output_type": "execute_result"
    }
   ],
   "source": [
    "# подсчёт пропусков\n",
    "df.isna().sum()"
   ]
  },
  {
   "cell_type": "markdown",
   "metadata": {
    "deletable": false,
    "editable": false,
    "id": "BWKRtBJ3_Zct",
    "tags": [
     "start_task"
    ]
   },
   "source": [
    "### Дубликаты\n",
    "\n",
    "**Задание 12**\n",
    "\n",
    "Посчитайте явные дубликаты в таблице одной командой:"
   ]
  },
  {
   "cell_type": "code",
   "execution_count": 15,
   "metadata": {
    "deletable": false,
    "id": "36eES_S0_Zct"
   },
   "outputs": [
    {
     "data": {
      "text/plain": [
       "3826"
      ]
     },
     "execution_count": 15,
     "metadata": {},
     "output_type": "execute_result"
    }
   ],
   "source": [
    "# подсчёт явных дубликатов\n",
    "df.duplicated().sum()"
   ]
  },
  {
   "cell_type": "markdown",
   "metadata": {
    "deletable": false,
    "editable": false,
    "id": "Ot25h6XR_Zct",
    "tags": [
     "start_task"
    ]
   },
   "source": [
    "**Задание 13**\n",
    "\n",
    "Вызовите специальный метод `pandas`, чтобы удалить явные дубликаты:"
   ]
  },
  {
   "cell_type": "code",
   "execution_count": 16,
   "metadata": {
    "deletable": false,
    "id": "exFHq6tt_Zct"
   },
   "outputs": [],
   "source": [
    "# удаление явных дубликатов\n",
    "df = df.drop_duplicates().reset_index(drop=True)"
   ]
  },
  {
   "cell_type": "markdown",
   "metadata": {
    "deletable": false,
    "editable": false,
    "id": "Im2YwBEG_Zct",
    "tags": [
     "start_task"
    ]
   },
   "source": [
    "**Задание 14**\n",
    "\n",
    "Ещё раз посчитайте явные дубликаты в таблице — убедитесь, что полностью от них избавились:"
   ]
  },
  {
   "cell_type": "code",
   "execution_count": 17,
   "metadata": {
    "deletable": false,
    "id": "-8PuNWQ0_Zct"
   },
   "outputs": [
    {
     "data": {
      "text/plain": [
       "0"
      ]
     },
     "execution_count": 17,
     "metadata": {},
     "output_type": "execute_result"
    }
   ],
   "source": [
    "# проверка на отсутствие дубликатов\n",
    "df.duplicated().sum()"
   ]
  },
  {
   "cell_type": "markdown",
   "metadata": {
    "deletable": false,
    "editable": false,
    "id": "QlFBsxAr_Zct"
   },
   "source": [
    "Теперь избавьтесь от неявных дубликатов в колонке `genre`. Например, название одного и того же жанра может быть записано немного по-разному. Такие ошибки тоже повлияют на результат исследования."
   ]
  },
  {
   "cell_type": "markdown",
   "metadata": {
    "deletable": false,
    "editable": false,
    "id": "eSjWwsOh_Zct",
    "tags": [
     "start_task"
    ]
   },
   "source": [
    "**Задание 15**\n",
    "\n",
    "Выведите на экран список уникальных названий жанров, отсортированный в алфавитном порядке. Для этого:\n",
    "1. извлеките нужный столбец датафрейма; \n",
    "2. примените к нему метод сортировки;\n",
    "3. для отсортированного столбца вызовите метод, который вернёт уникальные значения из столбца."
   ]
  },
  {
   "cell_type": "code",
   "execution_count": 18,
   "metadata": {
    "deletable": false,
    "id": "JIUcqzZN_Zct"
   },
   "outputs": [
    {
     "data": {
      "text/plain": [
       "array(['acid', 'acoustic', 'action', 'adult', 'africa', 'afrikaans',\n",
       "       'alternative', 'alternativepunk', 'ambient', 'americana',\n",
       "       'animated', 'anime', 'arabesk', 'arabic', 'arena',\n",
       "       'argentinetango', 'art', 'audiobook', 'author', 'avantgarde',\n",
       "       'axé', 'baile', 'balkan', 'beats', 'bigroom', 'black', 'bluegrass',\n",
       "       'blues', 'bollywood', 'bossa', 'brazilian', 'breakbeat', 'breaks',\n",
       "       'broadway', 'cantautori', 'cantopop', 'canzone', 'caribbean',\n",
       "       'caucasian', 'celtic', 'chamber', 'chanson', 'children', 'chill',\n",
       "       'chinese', 'choral', 'christian', 'christmas', 'classical',\n",
       "       'classicmetal', 'club', 'colombian', 'comedy', 'conjazz',\n",
       "       'contemporary', 'country', 'cuban', 'dance', 'dancehall',\n",
       "       'dancepop', 'dark', 'death', 'deep', 'deutschrock', 'deutschspr',\n",
       "       'dirty', 'disco', 'dnb', 'documentary', 'downbeat', 'downtempo',\n",
       "       'drum', 'dub', 'dubstep', 'eastern', 'easy', 'electronic',\n",
       "       'electropop', 'emo', 'entehno', 'epicmetal', 'estrada', 'ethnic',\n",
       "       'eurofolk', 'european', 'experimental', 'extrememetal', 'fado',\n",
       "       'fairytail', 'film', 'fitness', 'flamenco', 'folk', 'folklore',\n",
       "       'folkmetal', 'folkrock', 'folktronica', 'forró', 'frankreich',\n",
       "       'französisch', 'french', 'funk', 'future', 'gangsta', 'garage',\n",
       "       'german', 'ghazal', 'gitarre', 'glitch', 'gospel', 'gothic',\n",
       "       'grime', 'grunge', 'gypsy', 'handsup', \"hard'n'heavy\", 'hardcore',\n",
       "       'hardstyle', 'hardtechno', 'hip', 'hip-hop', 'hiphop',\n",
       "       'historisch', 'holiday', 'hop', 'horror', 'house', 'hymn', 'idm',\n",
       "       'independent', 'indian', 'indie', 'indipop', 'industrial',\n",
       "       'inspirational', 'instrumental', 'international', 'irish', 'jam',\n",
       "       'japanese', 'jazz', 'jewish', 'jpop', 'jungle', 'k-pop',\n",
       "       'karadeniz', 'karaoke', 'kayokyoku', 'korean', 'laiko', 'latin',\n",
       "       'latino', 'leftfield', 'local', 'lounge', 'loungeelectronic',\n",
       "       'lovers', 'malaysian', 'mandopop', 'marschmusik', 'meditative',\n",
       "       'mediterranean', 'melodic', 'metal', 'metalcore', 'mexican',\n",
       "       'middle', 'minimal', 'miscellaneous', 'modern', 'mood', 'mpb',\n",
       "       'muslim', 'native', 'neoklassik', 'neue', 'new', 'newage',\n",
       "       'newwave', 'nu', 'nujazz', 'numetal', 'oceania', 'old', 'opera',\n",
       "       'orchestral', 'other', 'piano', 'podcasts', 'pop', 'popdance',\n",
       "       'popelectronic', 'popeurodance', 'poprussian', 'post',\n",
       "       'posthardcore', 'postrock', 'power', 'progmetal', 'progressive',\n",
       "       'psychedelic', 'punjabi', 'punk', 'quebecois', 'ragga', 'ram',\n",
       "       'rancheras', 'rap', 'rave', 'reggae', 'reggaeton', 'regional',\n",
       "       'relax', 'religious', 'retro', 'rhythm', 'rnb', 'rnr', 'rock',\n",
       "       'rockabilly', 'rockalternative', 'rockindie', 'rockother',\n",
       "       'romance', 'roots', 'ruspop', 'rusrap', 'rusrock', 'russian',\n",
       "       'salsa', 'samba', 'scenic', 'schlager', 'self', 'sertanejo',\n",
       "       'shanson', 'shoegazing', 'showtunes', 'singer', 'ska', 'skarock',\n",
       "       'slow', 'smooth', 'soft', 'soul', 'soulful', 'sound', 'soundtrack',\n",
       "       'southern', 'specialty', 'speech', 'spiritual', 'sport',\n",
       "       'stonerrock', 'surf', 'swing', 'synthpop', 'synthrock',\n",
       "       'sängerportrait', 'tango', 'tanzorchester', 'taraftar', 'tatar',\n",
       "       'tech', 'techno', 'teen', 'thrash', 'top', 'traditional',\n",
       "       'tradjazz', 'trance', 'tribal', 'trip', 'triphop', 'tropical',\n",
       "       'türk', 'türkçe', 'ukrrock', 'unknown', 'urban', 'uzbek',\n",
       "       'variété', 'vi', 'videogame', 'vocal', 'western', 'world',\n",
       "       'worldbeat', 'ïîï', 'электроника'], dtype=object)"
      ]
     },
     "execution_count": 18,
     "metadata": {},
     "output_type": "execute_result"
    }
   ],
   "source": [
    "# Просмотр уникальных названий жанров\n",
    "df['genre'].sort_values().unique()"
   ]
  },
  {
   "cell_type": "markdown",
   "metadata": {
    "deletable": false,
    "editable": false,
    "id": "qej-Qmuo_Zct",
    "tags": [
     "start_task"
    ]
   },
   "source": [
    "**Задание 16**\n",
    "\n",
    "Просмотрите список и найдите неявные дубликаты названия `hiphop`. Это могут быть названия с ошибками или альтернативные названия того же жанра.\n",
    "\n",
    "Вы увидите следующие неявные дубликаты:\n",
    "* *hip*,\n",
    "* *hop*,\n",
    "* *hip-hop*.\n",
    "\n",
    "Чтобы очистить от них таблицу используйте метод `replace()` с двумя аргументами: списком строк-дубликатов (включащий *hip*, *hop* и *hip-hop*) и строкой с правильным значением. Вам нужно исправить колонку `genre` в таблице `df`: заменить каждое значение из списка дубликатов на верное. Вместо `hip`, `hop` и `hip-hop` в таблице должно быть значение `hiphop`:"
   ]
  },
  {
   "cell_type": "code",
   "execution_count": 19,
   "metadata": {
    "deletable": false,
    "id": "ErNDkmns_Zct"
   },
   "outputs": [],
   "source": [
    "# Устранение неявных дубликатов\n",
    "df = df.replace(['hip','hop','hip-hop'],'hiphop')"
   ]
  },
  {
   "cell_type": "markdown",
   "metadata": {
    "deletable": false,
    "editable": false,
    "id": "zQKF16_RG15m",
    "tags": [
     "start_task"
    ]
   },
   "source": [
    "**Задание 17**\n",
    "\n",
    "Проверьте, что заменили неправильные названия:\n",
    "\n",
    "*   hip,\n",
    "*   hop,\n",
    "*   hip-hop.\n",
    "\n",
    "Выведите отсортированный список уникальных значений столбца `genre`:"
   ]
  },
  {
   "cell_type": "code",
   "execution_count": 20,
   "metadata": {
    "deletable": false,
    "id": "wvixALnFG15m"
   },
   "outputs": [
    {
     "data": {
      "text/plain": [
       "array(['acid', 'acoustic', 'action', 'adult', 'africa', 'afrikaans',\n",
       "       'alternative', 'alternativepunk', 'ambient', 'americana',\n",
       "       'animated', 'anime', 'arabesk', 'arabic', 'arena',\n",
       "       'argentinetango', 'art', 'audiobook', 'author', 'avantgarde',\n",
       "       'axé', 'baile', 'balkan', 'beats', 'bigroom', 'black', 'bluegrass',\n",
       "       'blues', 'bollywood', 'bossa', 'brazilian', 'breakbeat', 'breaks',\n",
       "       'broadway', 'cantautori', 'cantopop', 'canzone', 'caribbean',\n",
       "       'caucasian', 'celtic', 'chamber', 'chanson', 'children', 'chill',\n",
       "       'chinese', 'choral', 'christian', 'christmas', 'classical',\n",
       "       'classicmetal', 'club', 'colombian', 'comedy', 'conjazz',\n",
       "       'contemporary', 'country', 'cuban', 'dance', 'dancehall',\n",
       "       'dancepop', 'dark', 'death', 'deep', 'deutschrock', 'deutschspr',\n",
       "       'dirty', 'disco', 'dnb', 'documentary', 'downbeat', 'downtempo',\n",
       "       'drum', 'dub', 'dubstep', 'eastern', 'easy', 'electronic',\n",
       "       'electropop', 'emo', 'entehno', 'epicmetal', 'estrada', 'ethnic',\n",
       "       'eurofolk', 'european', 'experimental', 'extrememetal', 'fado',\n",
       "       'fairytail', 'film', 'fitness', 'flamenco', 'folk', 'folklore',\n",
       "       'folkmetal', 'folkrock', 'folktronica', 'forró', 'frankreich',\n",
       "       'französisch', 'french', 'funk', 'future', 'gangsta', 'garage',\n",
       "       'german', 'ghazal', 'gitarre', 'glitch', 'gospel', 'gothic',\n",
       "       'grime', 'grunge', 'gypsy', 'handsup', \"hard'n'heavy\", 'hardcore',\n",
       "       'hardstyle', 'hardtechno', 'hiphop', 'historisch', 'holiday',\n",
       "       'horror', 'house', 'hymn', 'idm', 'independent', 'indian', 'indie',\n",
       "       'indipop', 'industrial', 'inspirational', 'instrumental',\n",
       "       'international', 'irish', 'jam', 'japanese', 'jazz', 'jewish',\n",
       "       'jpop', 'jungle', 'k-pop', 'karadeniz', 'karaoke', 'kayokyoku',\n",
       "       'korean', 'laiko', 'latin', 'latino', 'leftfield', 'local',\n",
       "       'lounge', 'loungeelectronic', 'lovers', 'malaysian', 'mandopop',\n",
       "       'marschmusik', 'meditative', 'mediterranean', 'melodic', 'metal',\n",
       "       'metalcore', 'mexican', 'middle', 'minimal', 'miscellaneous',\n",
       "       'modern', 'mood', 'mpb', 'muslim', 'native', 'neoklassik', 'neue',\n",
       "       'new', 'newage', 'newwave', 'nu', 'nujazz', 'numetal', 'oceania',\n",
       "       'old', 'opera', 'orchestral', 'other', 'piano', 'podcasts', 'pop',\n",
       "       'popdance', 'popelectronic', 'popeurodance', 'poprussian', 'post',\n",
       "       'posthardcore', 'postrock', 'power', 'progmetal', 'progressive',\n",
       "       'psychedelic', 'punjabi', 'punk', 'quebecois', 'ragga', 'ram',\n",
       "       'rancheras', 'rap', 'rave', 'reggae', 'reggaeton', 'regional',\n",
       "       'relax', 'religious', 'retro', 'rhythm', 'rnb', 'rnr', 'rock',\n",
       "       'rockabilly', 'rockalternative', 'rockindie', 'rockother',\n",
       "       'romance', 'roots', 'ruspop', 'rusrap', 'rusrock', 'russian',\n",
       "       'salsa', 'samba', 'scenic', 'schlager', 'self', 'sertanejo',\n",
       "       'shanson', 'shoegazing', 'showtunes', 'singer', 'ska', 'skarock',\n",
       "       'slow', 'smooth', 'soft', 'soul', 'soulful', 'sound', 'soundtrack',\n",
       "       'southern', 'specialty', 'speech', 'spiritual', 'sport',\n",
       "       'stonerrock', 'surf', 'swing', 'synthpop', 'synthrock',\n",
       "       'sängerportrait', 'tango', 'tanzorchester', 'taraftar', 'tatar',\n",
       "       'tech', 'techno', 'teen', 'thrash', 'top', 'traditional',\n",
       "       'tradjazz', 'trance', 'tribal', 'trip', 'triphop', 'tropical',\n",
       "       'türk', 'türkçe', 'ukrrock', 'unknown', 'urban', 'uzbek',\n",
       "       'variété', 'vi', 'videogame', 'vocal', 'western', 'world',\n",
       "       'worldbeat', 'ïîï', 'электроника'], dtype=object)"
      ]
     },
     "execution_count": 20,
     "metadata": {},
     "output_type": "execute_result"
    }
   ],
   "source": [
    "# Проверка на неявные дубликаты\n",
    "df['genre'].sort_values().unique()"
   ]
  },
  {
   "cell_type": "markdown",
   "metadata": {
    "deletable": false,
    "editable": false,
    "id": "jz6a9-7HQUDd"
   },
   "source": [
    "**Выводы**\n",
    "\n",
    "Предобработка обнаружила три проблемы в данных:\n",
    "\n",
    "- нарушения в стиле заголовков,\n",
    "- пропущенные значения,\n",
    "- дубликаты — явные и неявные.\n",
    "\n",
    "Вы исправили заголовки, чтобы упростить работу с таблицей. Без дубликатов исследование станет более точным.\n",
    "\n",
    "Пропущенные значения вы заменили на `'unknown'`. Ещё предстоит увидеть, не повредят ли исследованию пропуски в колонке `genre`.\n",
    "\n",
    "Теперь можно перейти к проверке гипотез. "
   ]
  },
  {
   "cell_type": "markdown",
   "metadata": {
    "deletable": false,
    "editable": false,
    "id": "WttZHXH0SqKk"
   },
   "source": [
    "## Проверка гипотез"
   ]
  },
  {
   "cell_type": "markdown",
   "metadata": {
    "deletable": false,
    "editable": false,
    "id": "Im936VVi_Zcu"
   },
   "source": [
    "### Сравнение поведения пользователей двух столиц"
   ]
  },
  {
   "cell_type": "markdown",
   "metadata": {
    "deletable": false,
    "editable": false,
    "id": "nwt_MuaL_Zcu"
   },
   "source": [
    "Первая гипотеза утверждает, что пользователи по-разному слушают музыку в Москве и Санкт-Петербурге. Проверьте это предположение по данным о трёх днях недели — понедельнике, среде и пятнице. Для этого:\n",
    "\n",
    "* Разделите пользователей Москвы и Санкт-Петербурга.\n",
    "* Сравните, сколько треков послушала каждая группа пользователей в понедельник, среду и пятницу.\n"
   ]
  },
  {
   "cell_type": "markdown",
   "metadata": {
    "deletable": false,
    "editable": false,
    "id": "8Dw_YMmT_Zcu",
    "tags": [
     "start_task"
    ]
   },
   "source": [
    "**Задание 18**\n",
    "\n",
    "Для тренировки сначала выполните каждый из расчётов по отдельности. \n",
    "\n",
    "Оцените активность пользователей в каждом городе. Сгруппируйте данные по городу и посчитайте прослушивания в каждой группе.\n",
    "\n"
   ]
  },
  {
   "cell_type": "code",
   "execution_count": 21,
   "metadata": {
    "deletable": false,
    "id": "0_Qs96oh_Zcu"
   },
   "outputs": [
    {
     "name": "stdout",
     "output_type": "stream",
     "text": [
      "city\n",
      "Moscow              42741\n",
      "Saint-Petersburg    18512\n",
      "Name: city, dtype: int64\n"
     ]
    }
   ],
   "source": [
    "# Подсчёт прослушиваний в каждом городе\n",
    "\n",
    "df_city = df.groupby('city')['city'].count()\n",
    "print(df_city)"
   ]
  },
  {
   "cell_type": "markdown",
   "metadata": {
    "deletable": false,
    "editable": false,
    "id": "dzli3w8o_Zcu",
    "tags": [
     "start_task"
    ]
   },
   "source": [
    "В Москве прослушиваний больше, чем в Петербурге. Из этого не следует, что московские пользователи чаще слушают музыку. Просто самих пользователей в Москве больше.\n",
    "\n",
    "**Задание 19**\n",
    "\n",
    "Теперь сгруппируйте данные по дню недели и посчитайте прослушивания в понедельник, среду и пятницу. Учтите, что в данных есть информация о прослушиваниях только за эти дни.\n"
   ]
  },
  {
   "cell_type": "code",
   "execution_count": 22,
   "metadata": {
    "deletable": false,
    "id": "uZMKjiJz_Zcu"
   },
   "outputs": [
    {
     "name": "stdout",
     "output_type": "stream",
     "text": [
      "day\n",
      "Friday       21840\n",
      "Monday       21354\n",
      "Wednesday    18059\n",
      "Name: day, dtype: int64\n"
     ]
    }
   ],
   "source": [
    "# Подсчёт прослушиваний в каждый из трёх дней\n",
    "df_days = df.groupby('day')['day'].count()\n",
    "print(df_days)"
   ]
  },
  {
   "cell_type": "markdown",
   "metadata": {
    "deletable": false,
    "editable": false,
    "id": "cC2tNrlL_Zcu"
   },
   "source": [
    "В среднем пользователи из двух городов менее активны по средам. Но картина может измениться, если рассмотреть каждый город в отдельности."
   ]
  },
  {
   "cell_type": "markdown",
   "metadata": {
    "deletable": false,
    "editable": false,
    "id": "POzs8bGa_Zcu",
    "tags": [
     "start_task"
    ]
   },
   "source": [
    "**Задание 20**\n",
    "\n",
    "\n",
    "Вы видели, как работает группировка по городу и по дням недели. Теперь напишите функцию, которая объединит два эти расчёта.\n",
    "\n",
    "Создайте функцию `number_tracks()`, которая посчитает прослушивания для заданного дня и города. Ей понадобятся два параметра:\n",
    "* день недели,\n",
    "* название города.\n",
    "\n",
    "В функции сохраните в переменную строки исходной таблицы, у которых значение:\n",
    "  * в колонке `day` равно параметру `day`,\n",
    "  * в колонке `city` равно параметру `city`.\n",
    "\n",
    "Для этого примените последовательную фильтрацию с логической индексацией (или сложные логические выражения в одну строку, если вы уже знакомы с ними).\n",
    "\n",
    "Затем посчитайте значения в столбце `user_id` получившейся таблицы. Результат сохраните в новую переменную. Верните эту переменную из функции."
   ]
  },
  {
   "cell_type": "code",
   "execution_count": 23,
   "metadata": {
    "deletable": false,
    "id": "Nz3GdQB1_Zcu"
   },
   "outputs": [],
   "source": [
    "# <создание функции number_tracks()>\n",
    "# Объявляется функция с двумя параметрами: day, city.\n",
    "# В переменной track_list сохраняются те строки таблицы df, для которых \n",
    "# значение в столбце 'day' равно параметру day и одновременно значение\n",
    "# в столбце 'city' равно параметру city (используйте последовательную фильтрацию\n",
    "# с помощью логической индексации или сложные логические выражения в одну строку, если вы уже знакомы с ними).\n",
    "# В переменной track_list_count сохраняется число значений столбца 'user_id',\n",
    "# рассчитанное методом count() для таблицы track_list.\n",
    "# Функция возвращает число - значение track_list_count.\n",
    "\n",
    "def number_tracks(day,city):\n",
    "    track_list = df[df['day'] == day]\n",
    "    track_list = track_list[track_list['city'] == city]\n",
    "    track_list_count = track_list['user_id'].count()\n",
    "    return track_list_count\n",
    "    \n",
    "\n",
    "# Функция для подсчёта прослушиваний для конкретного города и дня.\n",
    "# С помощью последовательной фильтрации с логической индексацией она \n",
    "# сначала получит из исходной таблицы строки с нужным днём,\n",
    "# затем из результата отфильтрует строки с нужным городом,\n",
    "# методом count() посчитает количество значений в колонке user_id. \n",
    "# Это количество функция вернёт в качестве результата"
   ]
  },
  {
   "cell_type": "markdown",
   "metadata": {
    "deletable": false,
    "editable": false,
    "id": "ytf7xFrFJQ2r",
    "tags": [
     "start_task"
    ]
   },
   "source": [
    "**Задание 21**\n",
    "\n",
    "Вызовите `number_tracks()` шесть раз, меняя значение параметров — так, чтобы получить данные для каждого города в каждый из трёх дней."
   ]
  },
  {
   "cell_type": "code",
   "execution_count": 24,
   "metadata": {
    "deletable": false,
    "id": "rJcRATNQ_Zcu"
   },
   "outputs": [
    {
     "data": {
      "text/plain": [
       "15740"
      ]
     },
     "execution_count": 24,
     "metadata": {},
     "output_type": "execute_result"
    }
   ],
   "source": [
    "# количество прослушиваний в Москве по понедельникам\n",
    "\n",
    "number_tracks('Monday','Moscow')"
   ]
  },
  {
   "cell_type": "code",
   "execution_count": 25,
   "metadata": {
    "deletable": false,
    "id": "hq_ncZ5T_Zcu"
   },
   "outputs": [
    {
     "data": {
      "text/plain": [
       "5614"
      ]
     },
     "execution_count": 25,
     "metadata": {},
     "output_type": "execute_result"
    }
   ],
   "source": [
    "# количество прослушиваний в Санкт-Петербурге по понедельникам\n",
    "number_tracks('Monday','Saint-Petersburg')"
   ]
  },
  {
   "cell_type": "code",
   "execution_count": 26,
   "metadata": {
    "deletable": false,
    "id": "_NTy2VPU_Zcu"
   },
   "outputs": [
    {
     "data": {
      "text/plain": [
       "11056"
      ]
     },
     "execution_count": 26,
     "metadata": {},
     "output_type": "execute_result"
    }
   ],
   "source": [
    "# количество прослушиваний в Москве по средам\n",
    "number_tracks('Wednesday','Moscow')"
   ]
  },
  {
   "cell_type": "code",
   "execution_count": 27,
   "metadata": {
    "deletable": false,
    "id": "j2y3TAwo_Zcu"
   },
   "outputs": [
    {
     "data": {
      "text/plain": [
       "7003"
      ]
     },
     "execution_count": 27,
     "metadata": {},
     "output_type": "execute_result"
    }
   ],
   "source": [
    "# количество прослушиваний в Санкт-Петербурге по средам\n",
    "number_tracks('Wednesday','Saint-Petersburg')"
   ]
  },
  {
   "cell_type": "code",
   "execution_count": 28,
   "metadata": {
    "deletable": false,
    "id": "vYDw5u_K_Zcu"
   },
   "outputs": [
    {
     "data": {
      "text/plain": [
       "15945"
      ]
     },
     "execution_count": 28,
     "metadata": {},
     "output_type": "execute_result"
    }
   ],
   "source": [
    "# количество прослушиваний в Москве по пятницам\n",
    "number_tracks('Friday','Moscow')"
   ]
  },
  {
   "cell_type": "code",
   "execution_count": 29,
   "metadata": {
    "deletable": false,
    "id": "8_yzFtW3_Zcu"
   },
   "outputs": [
    {
     "data": {
      "text/plain": [
       "5895"
      ]
     },
     "execution_count": 29,
     "metadata": {},
     "output_type": "execute_result"
    }
   ],
   "source": [
    "# количество прослушиваний в Санкт-Петербурге по пятницам\n",
    "number_tracks('Friday','Saint-Petersburg')"
   ]
  },
  {
   "cell_type": "markdown",
   "metadata": {
    "deletable": false,
    "editable": false,
    "id": "7QXffbO-_Zcu",
    "tags": [
     "start_task"
    ]
   },
   "source": [
    "**Задание 22**\n",
    "\n",
    "Создайте c помощью конструктора `pd.DataFrame` таблицу, где\n",
    "* названия колонок — `['city', 'monday', 'wednesday', 'friday']`;\n",
    "* данные — результаты, которые вы получили с помощью `number_tracks`."
   ]
  },
  {
   "cell_type": "code",
   "execution_count": 30,
   "metadata": {
    "deletable": false,
    "id": "APAcLpOr_Zcu"
   },
   "outputs": [
    {
     "data": {
      "text/html": [
       "<div>\n",
       "<style scoped>\n",
       "    .dataframe tbody tr th:only-of-type {\n",
       "        vertical-align: middle;\n",
       "    }\n",
       "\n",
       "    .dataframe tbody tr th {\n",
       "        vertical-align: top;\n",
       "    }\n",
       "\n",
       "    .dataframe thead th {\n",
       "        text-align: right;\n",
       "    }\n",
       "</style>\n",
       "<table border=\"1\" class=\"dataframe\">\n",
       "  <thead>\n",
       "    <tr style=\"text-align: right;\">\n",
       "      <th></th>\n",
       "      <th>city</th>\n",
       "      <th>monday</th>\n",
       "      <th>wednesday</th>\n",
       "      <th>friday</th>\n",
       "    </tr>\n",
       "  </thead>\n",
       "  <tbody>\n",
       "    <tr>\n",
       "      <th>0</th>\n",
       "      <td>Moscow</td>\n",
       "      <td>15740</td>\n",
       "      <td>11056</td>\n",
       "      <td>15945</td>\n",
       "    </tr>\n",
       "    <tr>\n",
       "      <th>1</th>\n",
       "      <td>Saint-Petersburg</td>\n",
       "      <td>5614</td>\n",
       "      <td>7003</td>\n",
       "      <td>5895</td>\n",
       "    </tr>\n",
       "  </tbody>\n",
       "</table>\n",
       "</div>"
      ],
      "text/plain": [
       "               city  monday  wednesday  friday\n",
       "0            Moscow   15740      11056   15945\n",
       "1  Saint-Petersburg    5614       7003    5895"
      ]
     },
     "execution_count": 30,
     "metadata": {},
     "output_type": "execute_result"
    }
   ],
   "source": [
    "# Таблица с результатами\n",
    "\n",
    "colum = ['city','monday','wednesday','friday']\n",
    "data = [\n",
    "    ['Moscow',15740,11056,15945],\n",
    "    ['Saint-Petersburg',5614,7003,5895]\n",
    "]\n",
    "\n",
    "dff = p.DataFrame(data, columns=colum)\n",
    "dff"
   ]
  },
  {
   "cell_type": "markdown",
   "metadata": {
    "deletable": false,
    "editable": false,
    "id": "-EgPIHYu_Zcu"
   },
   "source": [
    "**Выводы**\n",
    "\n",
    "Данные показывают разницу поведения пользователей:\n",
    "\n",
    "- В Москве пик прослушиваний приходится на понедельник и пятницу, а в среду заметен спад.\n",
    "- В Петербурге, наоборот, больше слушают музыку по средам. Активность в понедельник и пятницу здесь почти в равной мере уступает среде.\n",
    "\n",
    "Значит, данные говорят в пользу первой гипотезы."
   ]
  },
  {
   "cell_type": "markdown",
   "metadata": {
    "deletable": false,
    "editable": false,
    "id": "atZAxtq4_Zcu"
   },
   "source": [
    "### Музыка в начале и в конце недели"
   ]
  },
  {
   "cell_type": "markdown",
   "metadata": {
    "deletable": false,
    "editable": false,
    "id": "eXrQqXFH_Zcu"
   },
   "source": [
    "Согласно второй гипотезе, утром в понедельник в Москве преобладают одни жанры, а в Петербурге — другие. Так же и вечером пятницы преобладают разные жанры — в зависимости от города."
   ]
  },
  {
   "cell_type": "markdown",
   "metadata": {
    "deletable": false,
    "editable": false,
    "id": "S8UcW6Hw_Zcu",
    "tags": [
     "start_task"
    ]
   },
   "source": [
    "**Задание 23**\n",
    "\n",
    "Сохраните таблицы с данными в две переменные:\n",
    "* по Москве — в `moscow_general`;\n",
    "* по Санкт-Петербургу — в `spb_general`."
   ]
  },
  {
   "cell_type": "code",
   "execution_count": 31,
   "metadata": {
    "deletable": false,
    "id": "qeaFfM_P_Zcu"
   },
   "outputs": [],
   "source": [
    "# получение таблицы moscow_general из тех строк таблицы df, \n",
    "# для которых значение в столбце 'city' равно 'Moscow'\n",
    "moscow_general = df[df['city'] == 'Moscow']"
   ]
  },
  {
   "cell_type": "code",
   "execution_count": 32,
   "metadata": {
    "deletable": false,
    "id": "ORaVRKto_Zcu"
   },
   "outputs": [],
   "source": [
    "# получение таблицы spb_general из тех строк таблицы df,\n",
    "# для которых значение в столбце 'city' равно 'Saint-Petersburg'\n",
    "spb_general = df[df['city'] == 'Saint-Petersburg']"
   ]
  },
  {
   "cell_type": "markdown",
   "metadata": {
    "deletable": false,
    "editable": false,
    "id": "MEJV-CX2_Zcu",
    "tags": [
     "start_task"
    ]
   },
   "source": [
    "**Задание 24**\n",
    "\n",
    "Создайте функцию `genre_weekday()` с четырьмя параметрами:\n",
    "* таблица (датафрейм) с данными,\n",
    "* день недели,\n",
    "* начальная временная метка в формате 'hh:mm', \n",
    "* последняя временная метка в формате 'hh:mm'.\n",
    "\n",
    "Функция должна вернуть информацию о топ-10 жанров тех треков, которые прослушивали в указанный день, в промежутке между двумя отметками времени."
   ]
  },
  {
   "cell_type": "code",
   "execution_count": 33,
   "metadata": {
    "deletable": false,
    "id": "laJT9BYl_Zcu"
   },
   "outputs": [],
   "source": [
    "# Объявление функции genre_weekday() с параметрами table, day, time1, time2,\n",
    "# которая возвращает информацию о самых популярных жанрах в указанный день в\n",
    "# заданное время:\n",
    "# 1) в переменную genre_df сохраняются те строки переданного датафрейма table, для\n",
    "#    которых одновременно:\n",
    "#    - значение в столбце day равно значению аргумента day\n",
    "#    - значение в столбце time больше значения аргумента time1\n",
    "#    - значение в столбце time меньше значения аргумента time2\n",
    "#    Используйте последовательную фильтрацию с помощью логической индексации.\n",
    "# 2) сгруппировать датафрейм genre_df по столбцу genre, взять один из его\n",
    "#    столбцов и посчитать методом count() количество записей для каждого из\n",
    "#    присутствующих жанров, получившийся Series записать в переменную\n",
    "#    genre_df_count\n",
    "# 3) отсортировать genre_df_count по убыванию встречаемости и сохранить\n",
    "#    в переменную genre_df_sorted\n",
    "# 4) вернуть Series из 10 первых значений genre_df_sorted, это будут топ-10\n",
    "#    популярных жанров (в указанный день, в заданное время)\n",
    "\n",
    "def genre_weekday(df, day, time1, time2):\n",
    "    # последовательная фильтрация\n",
    "    # оставляем в genre_df только те строки df, у которых день равен day\n",
    "    genre_df = df[df['day'] == day]\n",
    "    # оставляем в genre_df только те строки genre_df, у которых время меньше time2\n",
    "    genre_df = genre_df[genre_df['time'] < time2] \n",
    "    # оставляем в genre_df только те строки genre_df, у которых время больше time1\n",
    "    genre_df = genre_df[genre_df['time'] > time1]\n",
    "    # сгруппируем отфильтрованный датафрейм по столбцу с названиями жанров, возьмём столбец genre и посчитаем кол-во строк для каждого жанра методом count()\n",
    "    genre_df_count = genre_df.groupby('genre')['genre'].count()\n",
    "    # отсортируем результат по убыванию (чтобы в начале Series оказались самые популярные жанры)\n",
    "    genre_df_sorted = genre_df_count.sort_values(ascending=False)\n",
    "    # вернём Series с 10 самыми популярными жанрами в указанный отрезок времени заданного дня\n",
    "    return genre_df_sorted[:10]\n"
   ]
  },
  {
   "cell_type": "markdown",
   "metadata": {
    "deletable": false,
    "editable": false,
    "id": "la2s2_PF_Zcu",
    "tags": [
     "start_task"
    ]
   },
   "source": [
    "**Задание 25**\n",
    "\n",
    "\n",
    "Cравните результаты функции `genre_weekday()` для Москвы и Санкт-Петербурга в понедельник утром (с 7:00 до 11:00) и в пятницу вечером (с 17:00 до 23:00):"
   ]
  },
  {
   "cell_type": "code",
   "execution_count": 34,
   "metadata": {
    "deletable": false,
    "id": "yz7itPUQ_Zcu"
   },
   "outputs": [
    {
     "data": {
      "text/plain": [
       "genre\n",
       "pop            781\n",
       "dance          549\n",
       "electronic     480\n",
       "rock           474\n",
       "hiphop         286\n",
       "ruspop         186\n",
       "world          181\n",
       "rusrap         175\n",
       "alternative    164\n",
       "unknown        161\n",
       "Name: genre, dtype: int64"
      ]
     },
     "execution_count": 34,
     "metadata": {},
     "output_type": "execute_result"
    }
   ],
   "source": [
    "# вызов функции для утра понедельника в Москве (вместо df — таблица moscow_general)\n",
    "# объекты, хранящие время, являются строками и сравниваются как строки\n",
    "# пример вызова: genre_weekday(moscow_general, 'Monday', '07:00', '11:00')\n",
    "genre_weekday(moscow_general, 'Monday', '07:00', '11:00')\n",
    "#df.info()"
   ]
  },
  {
   "cell_type": "code",
   "execution_count": 35,
   "metadata": {
    "deletable": false,
    "id": "kwUcHPdy_Zcu"
   },
   "outputs": [
    {
     "data": {
      "text/plain": [
       "genre\n",
       "pop            218\n",
       "dance          182\n",
       "rock           162\n",
       "electronic     147\n",
       "hiphop          80\n",
       "ruspop          64\n",
       "alternative     58\n",
       "rusrap          55\n",
       "jazz            44\n",
       "classical       40\n",
       "Name: genre, dtype: int64"
      ]
     },
     "execution_count": 35,
     "metadata": {},
     "output_type": "execute_result"
    }
   ],
   "source": [
    "# вызов функции для утра понедельника в Петербурге (вместо df — таблица spb_general)\n",
    "genre_weekday(spb_general, 'Monday', '07:00', '11:00')"
   ]
  },
  {
   "cell_type": "code",
   "execution_count": 36,
   "metadata": {
    "deletable": false,
    "id": "EzXVRE1o_Zcu"
   },
   "outputs": [
    {
     "data": {
      "text/plain": [
       "genre\n",
       "pop            713\n",
       "rock           517\n",
       "dance          495\n",
       "electronic     482\n",
       "hiphop         273\n",
       "world          208\n",
       "ruspop         170\n",
       "alternative    163\n",
       "classical      163\n",
       "rusrap         142\n",
       "Name: genre, dtype: int64"
      ]
     },
     "execution_count": 36,
     "metadata": {},
     "output_type": "execute_result"
    }
   ],
   "source": [
    "# вызов функции для вечера пятницы в Москве\n",
    "genre_weekday(moscow_general, 'Friday', '17:00', '23:00')"
   ]
  },
  {
   "cell_type": "code",
   "execution_count": 37,
   "metadata": {
    "deletable": false,
    "id": "JZaEKu5v_Zcu"
   },
   "outputs": [
    {
     "data": {
      "text/plain": [
       "genre\n",
       "pop            256\n",
       "electronic     216\n",
       "rock           216\n",
       "dance          210\n",
       "hiphop          97\n",
       "alternative     63\n",
       "jazz            61\n",
       "classical       60\n",
       "rusrap          59\n",
       "world           54\n",
       "Name: genre, dtype: int64"
      ]
     },
     "execution_count": 37,
     "metadata": {},
     "output_type": "execute_result"
    }
   ],
   "source": [
    "# вызов функции для вечера пятницы в Петербурге\n",
    "genre_weekday(spb_general, 'Friday', '17:00', '23:00')"
   ]
  },
  {
   "cell_type": "markdown",
   "metadata": {
    "deletable": false,
    "editable": false,
    "id": "wrCe4MNX_Zcu"
   },
   "source": [
    "**Выводы**\n",
    "\n",
    "Если сравнить топ-10 жанров в понедельник утром, можно сделать такие выводы:\n",
    "\n",
    "1. В Москве и Петербурге слушают похожую музыку. Единственное отличие — в московский рейтинг вошёл жанр “world”, а в петербургский — джаз и классика.\n",
    "\n",
    "2. В Москве пропущенных значений оказалось так много, что значение `'unknown'` заняло десятое место среди самых популярных жанров. Значит, пропущенные значения занимают существенную долю в данных и угрожают достоверности исследования.\n",
    "\n",
    "Вечер пятницы не меняет эту картину. Некоторые жанры поднимаются немного выше, другие спускаются, но в целом топ-10 остаётся тем же самым.\n",
    "\n",
    "Таким образом, вторая гипотеза подтвердилась лишь частично:\n",
    "* Пользователи слушают похожую музыку в начале недели и в конце.\n",
    "* Разница между Москвой и Петербургом не слишком выражена. В Москве чаще слушают русскую популярную музыку, в Петербурге — джаз.\n",
    "\n",
    "Однако пропуски в данных ставят под сомнение этот результат. В Москве их так много, что рейтинг топ-10 мог бы выглядеть иначе, если бы не утерянные  данные о жанрах."
   ]
  },
  {
   "cell_type": "markdown",
   "metadata": {
    "deletable": false,
    "editable": false,
    "id": "JolODAqr_Zcu"
   },
   "source": [
    "### Жанровые предпочтения в Москве и Петербурге\n",
    "\n",
    "Гипотеза: Петербург — столица рэпа, музыку этого жанра там слушают чаще, чем в Москве.  А Москва — город контрастов, в котором, тем не менее, преобладает поп-музыка."
   ]
  },
  {
   "cell_type": "markdown",
   "metadata": {
    "deletable": false,
    "editable": false,
    "id": "DlegSvaT_Zcu",
    "tags": [
     "start_task"
    ]
   },
   "source": [
    "**Задание 26**\n",
    "\n",
    "Сгруппируйте таблицу `moscow_general` по жанру и посчитайте прослушивания треков каждого жанра методом `count()`. Затем отсортируйте результат в порядке убывания и сохраните его в таблице `moscow_genres`."
   ]
  },
  {
   "cell_type": "code",
   "execution_count": 38,
   "metadata": {
    "deletable": false,
    "id": "r19lIPke_Zcu"
   },
   "outputs": [],
   "source": [
    "# одной строкой: группировка таблицы moscow_general по столбцу 'genre', \n",
    "# подсчёт числа значений 'genre' в этой группировке методом count(), \n",
    "# сортировка получившегося Series в порядке убывания и сохранение в moscow_genres\n",
    "\n",
    "moscow_genres = moscow_general.groupby('genre')['genre'].count()\n",
    "\n",
    "moscow_genres = moscow_genres.sort_values(ascending=False)"
   ]
  },
  {
   "cell_type": "markdown",
   "metadata": {
    "deletable": false,
    "editable": false,
    "id": "6kMuomxTiIr8",
    "tags": [
     "start_task"
    ]
   },
   "source": [
    "**Задание 27**\n",
    "\n",
    "Выведите на экран первые десять строк `moscow_genres`:"
   ]
  },
  {
   "cell_type": "code",
   "execution_count": 39,
   "metadata": {
    "deletable": false,
    "id": "WhCSooF8_Zcv"
   },
   "outputs": [
    {
     "data": {
      "text/plain": [
       "genre\n",
       "pop            5892\n",
       "dance          4435\n",
       "rock           3965\n",
       "electronic     3786\n",
       "hiphop         2096\n",
       "classical      1616\n",
       "world          1432\n",
       "alternative    1379\n",
       "ruspop         1372\n",
       "rusrap         1161\n",
       "Name: genre, dtype: int64"
      ]
     },
     "execution_count": 39,
     "metadata": {},
     "output_type": "execute_result"
    }
   ],
   "source": [
    "# просмотр первых 10 строк moscow_genres\n",
    "moscow_genres.head(10)"
   ]
  },
  {
   "cell_type": "markdown",
   "metadata": {
    "deletable": false,
    "editable": false,
    "id": "cnPG2vnN_Zcv",
    "tags": [
     "start_task"
    ]
   },
   "source": [
    "**Задание 28**\n",
    "\n",
    "\n",
    "Теперь повторите то же и для Петербурга.\n",
    "\n",
    "Сгруппируйте таблицу `spb_general` по жанру. Посчитайте прослушивания треков каждого жанра. Результат отсортируйте в порядке убывания и сохраните в таблице `spb_genres`:\n"
   ]
  },
  {
   "cell_type": "code",
   "execution_count": 40,
   "metadata": {
    "deletable": false,
    "id": "gluLIpE7_Zcv"
   },
   "outputs": [],
   "source": [
    "# одной строкой: группировка таблицы spb_general по столбцу 'genre', \n",
    "# подсчёт числа значений 'genre' в этой группировке методом count(), \n",
    "# сортировка получившегося Series в порядке убывания и сохранение в spb_genres\n",
    "\n",
    "spb_genres = spb_general.groupby('genre')['genre'].count()\n",
    "\n",
    "spb_genres = spb_genres.sort_values(ascending=False)"
   ]
  },
  {
   "cell_type": "markdown",
   "metadata": {
    "deletable": false,
    "editable": false,
    "id": "5Doha_ODgyQ8",
    "tags": [
     "start_task"
    ]
   },
   "source": [
    "**Задание 29**\n",
    "\n",
    "Выведите на экран первые десять строк `spb_genres`:"
   ]
  },
  {
   "cell_type": "code",
   "execution_count": 41,
   "metadata": {
    "deletable": false,
    "id": "uaGJHjVU_Zcv"
   },
   "outputs": [
    {
     "data": {
      "text/plain": [
       "genre\n",
       "pop            2431\n",
       "dance          1932\n",
       "rock           1879\n",
       "electronic     1736\n",
       "hiphop          960\n",
       "alternative     649\n",
       "classical       646\n",
       "rusrap          564\n",
       "ruspop          538\n",
       "world           515\n",
       "Name: genre, dtype: int64"
      ]
     },
     "execution_count": 41,
     "metadata": {},
     "output_type": "execute_result"
    }
   ],
   "source": [
    "# просмотр первых 10 строк spb_genres\n",
    "spb_genres[:10]"
   ]
  },
  {
   "cell_type": "markdown",
   "metadata": {
    "deletable": false,
    "editable": false,
    "id": "RY51YJYu_Zcv"
   },
   "source": [
    "**Выводы**"
   ]
  },
  {
   "cell_type": "markdown",
   "metadata": {
    "deletable": false,
    "editable": false,
    "id": "nVhnJEm__Zcv"
   },
   "source": [
    "Гипотеза частично подтвердилась:\n",
    "* Поп-музыка — самый популярный жанр в Москве, как и предполагала гипотеза. Более того, в топ-10 жанров встречается близкий жанр — русская популярная музыка.\n",
    "* Вопреки ожиданиям, рэп одинаково популярен в Москве и Петербурге. \n"
   ]
  },
  {
   "cell_type": "markdown",
   "metadata": {
    "deletable": false,
    "editable": false,
    "id": "ykKQ0N65_Zcv"
   },
   "source": [
    "## Итоги исследования"
   ]
  },
  {
   "cell_type": "markdown",
   "metadata": {
    "deletable": false,
    "editable": false,
    "id": "tjUwbHb3_Zcv"
   },
   "source": [
    "Вы проверили три гипотезы и установили:\n",
    "\n",
    "1. День недели по-разному влияет на активность пользователей в Москве и Петербурге. \n",
    "\n",
    "Первая гипотеза полностью подтвердилась.\n",
    "\n",
    "2. Музыкальные предпочтения не сильно меняются в течение недели — будь то Москва или Петербург. Небольшие различия заметны в начале недели, по понедельникам:\n",
    "* в Москве слушают музыку жанра “world”,\n",
    "* в Петербурге — джаз и классику.\n",
    "\n",
    "Таким образом, вторая гипотеза подтвердилась лишь отчасти. Этот результат мог оказаться иным, если бы не пропуски в данных.\n",
    "\n",
    "3. Во вкусах пользователей Москвы и Петербурга больше общего чем различий. Вопреки ожиданиям, предпочтения жанров в Петербурге напоминают московские.\n",
    "\n",
    "Третья гипотеза не подтвердилась. Если различия в предпочтениях и существуют, на основной массе пользователей они незаметны.\n",
    "\n",
    "**На практике исследования содержат проверки статистических гипотез.**\n",
    "Из данных одного сервиса не всегда можно сделать вывод о всех жителях города.\n",
    "Проверки статистических гипотез покажут, насколько они достоверны, исходя из имеющихся данных. \n",
    "С методами проверок гипотез вы ещё познакомитесь в следующих темах."
   ]
  }
 ],
 "metadata": {
  "ExecuteTimeLog": [
   {
    "duration": 401,
    "start_time": "2022-07-13T04:56:52.644Z"
   },
   {
    "duration": 496,
    "start_time": "2022-07-13T04:57:41.018Z"
   },
   {
    "duration": 19,
    "start_time": "2022-07-13T04:57:56.651Z"
   },
   {
    "duration": 12,
    "start_time": "2022-07-13T04:58:01.061Z"
   },
   {
    "duration": 12,
    "start_time": "2022-07-13T04:58:04.237Z"
   },
   {
    "duration": 40,
    "start_time": "2022-07-13T04:58:17.431Z"
   },
   {
    "duration": 3,
    "start_time": "2022-07-13T04:59:27.582Z"
   },
   {
    "duration": 5,
    "start_time": "2022-07-13T05:01:09.888Z"
   },
   {
    "duration": 19,
    "start_time": "2022-07-13T05:02:43.549Z"
   },
   {
    "duration": 5,
    "start_time": "2022-07-13T05:02:50.100Z"
   },
   {
    "duration": 32,
    "start_time": "2022-07-13T05:03:05.194Z"
   },
   {
    "duration": 25,
    "start_time": "2022-07-13T05:03:14.277Z"
   },
   {
    "duration": 69,
    "start_time": "2022-07-13T05:05:40.558Z"
   },
   {
    "duration": 9,
    "start_time": "2022-07-13T05:06:07.957Z"
   },
   {
    "duration": 7,
    "start_time": "2022-07-13T05:06:13.391Z"
   },
   {
    "duration": 8,
    "start_time": "2022-07-13T05:06:29.692Z"
   },
   {
    "duration": 74,
    "start_time": "2022-07-13T05:08:57.886Z"
   },
   {
    "duration": 31,
    "start_time": "2022-07-13T05:09:02.467Z"
   },
   {
    "duration": 13,
    "start_time": "2022-07-13T05:10:02.101Z"
   },
   {
    "duration": 11,
    "start_time": "2022-07-13T05:10:10.442Z"
   },
   {
    "duration": 16,
    "start_time": "2022-07-13T05:11:28.091Z"
   },
   {
    "duration": 11,
    "start_time": "2022-07-13T05:11:36.123Z"
   },
   {
    "duration": 10,
    "start_time": "2022-07-13T05:11:59.957Z"
   },
   {
    "duration": 505,
    "start_time": "2022-07-13T05:12:16.567Z"
   },
   {
    "duration": 185,
    "start_time": "2022-07-13T05:12:17.074Z"
   },
   {
    "duration": 19,
    "start_time": "2022-07-13T05:12:17.261Z"
   },
   {
    "duration": 40,
    "start_time": "2022-07-13T05:12:17.284Z"
   },
   {
    "duration": 3,
    "start_time": "2022-07-13T05:12:17.326Z"
   },
   {
    "duration": 7,
    "start_time": "2022-07-13T05:12:17.331Z"
   },
   {
    "duration": 19,
    "start_time": "2022-07-13T05:12:17.340Z"
   },
   {
    "duration": 9,
    "start_time": "2022-07-13T05:12:17.361Z"
   },
   {
    "duration": 67,
    "start_time": "2022-07-13T05:12:17.372Z"
   },
   {
    "duration": 14,
    "start_time": "2022-07-13T05:12:17.443Z"
   },
   {
    "duration": 43,
    "start_time": "2022-07-13T05:12:17.459Z"
   },
   {
    "duration": 3,
    "start_time": "2022-07-13T05:12:17.504Z"
   },
   {
    "duration": 6,
    "start_time": "2022-07-13T05:12:17.509Z"
   },
   {
    "duration": 8,
    "start_time": "2022-07-13T05:12:17.517Z"
   },
   {
    "duration": 8,
    "start_time": "2022-07-13T05:12:17.527Z"
   },
   {
    "duration": 5,
    "start_time": "2022-07-13T05:12:17.537Z"
   },
   {
    "duration": 9,
    "start_time": "2022-07-13T05:12:17.543Z"
   },
   {
    "duration": 8,
    "start_time": "2022-07-13T05:12:17.554Z"
   },
   {
    "duration": 8,
    "start_time": "2022-07-13T05:12:17.563Z"
   },
   {
    "duration": 26,
    "start_time": "2022-07-13T05:12:17.572Z"
   },
   {
    "duration": 10,
    "start_time": "2022-07-13T05:12:17.601Z"
   },
   {
    "duration": 17,
    "start_time": "2022-07-13T05:12:17.612Z"
   },
   {
    "duration": 20,
    "start_time": "2022-07-13T05:12:17.634Z"
   },
   {
    "duration": 21,
    "start_time": "2022-07-13T05:12:17.657Z"
   },
   {
    "duration": 11,
    "start_time": "2022-07-13T05:12:17.680Z"
   },
   {
    "duration": 8,
    "start_time": "2022-07-13T05:12:17.693Z"
   },
   {
    "duration": 7,
    "start_time": "2022-07-13T05:12:17.703Z"
   },
   {
    "duration": 7,
    "start_time": "2022-07-13T05:12:17.714Z"
   },
   {
    "duration": 6,
    "start_time": "2022-07-13T05:12:17.723Z"
   },
   {
    "duration": 79,
    "start_time": "2022-07-13T05:12:17.731Z"
   },
   {
    "duration": 0,
    "start_time": "2022-07-13T05:12:17.812Z"
   },
   {
    "duration": 0,
    "start_time": "2022-07-13T05:12:17.813Z"
   },
   {
    "duration": 0,
    "start_time": "2022-07-13T05:12:17.814Z"
   },
   {
    "duration": 0,
    "start_time": "2022-07-13T05:12:17.815Z"
   },
   {
    "duration": 0,
    "start_time": "2022-07-13T05:12:17.816Z"
   },
   {
    "duration": 0,
    "start_time": "2022-07-13T05:12:17.817Z"
   },
   {
    "duration": 0,
    "start_time": "2022-07-13T05:12:17.819Z"
   },
   {
    "duration": 0,
    "start_time": "2022-07-13T05:12:17.820Z"
   },
   {
    "duration": 30,
    "start_time": "2022-07-13T05:13:02.988Z"
   },
   {
    "duration": 26,
    "start_time": "2022-07-13T05:13:05.636Z"
   },
   {
    "duration": 71,
    "start_time": "2022-07-13T05:13:16.646Z"
   },
   {
    "duration": 79,
    "start_time": "2022-07-13T05:13:39.884Z"
   },
   {
    "duration": 81,
    "start_time": "2022-07-13T05:13:45.041Z"
   },
   {
    "duration": 94,
    "start_time": "2022-07-13T05:14:23.444Z"
   },
   {
    "duration": 101,
    "start_time": "2022-07-13T05:14:35.456Z"
   },
   {
    "duration": 106,
    "start_time": "2022-07-13T05:14:40.857Z"
   },
   {
    "duration": 70,
    "start_time": "2022-07-13T05:14:45.108Z"
   },
   {
    "duration": 444,
    "start_time": "2022-07-13T05:15:00.564Z"
   },
   {
    "duration": 183,
    "start_time": "2022-07-13T05:15:01.010Z"
   },
   {
    "duration": 19,
    "start_time": "2022-07-13T05:15:01.195Z"
   },
   {
    "duration": 33,
    "start_time": "2022-07-13T05:15:01.216Z"
   },
   {
    "duration": 19,
    "start_time": "2022-07-13T05:15:01.252Z"
   },
   {
    "duration": 21,
    "start_time": "2022-07-13T05:15:01.273Z"
   },
   {
    "duration": 23,
    "start_time": "2022-07-13T05:15:01.296Z"
   },
   {
    "duration": 16,
    "start_time": "2022-07-13T05:15:01.321Z"
   },
   {
    "duration": 43,
    "start_time": "2022-07-13T05:15:01.338Z"
   },
   {
    "duration": 24,
    "start_time": "2022-07-13T05:15:01.384Z"
   },
   {
    "duration": 41,
    "start_time": "2022-07-13T05:15:01.410Z"
   },
   {
    "duration": 75,
    "start_time": "2022-07-13T05:15:01.453Z"
   },
   {
    "duration": 113,
    "start_time": "2022-07-13T05:15:01.530Z"
   },
   {
    "duration": 78,
    "start_time": "2022-07-13T05:15:01.647Z"
   },
   {
    "duration": 3,
    "start_time": "2022-07-13T05:15:01.727Z"
   },
   {
    "duration": 13,
    "start_time": "2022-07-13T05:15:01.732Z"
   },
   {
    "duration": 26,
    "start_time": "2022-07-13T05:15:01.747Z"
   },
   {
    "duration": 10,
    "start_time": "2022-07-13T05:15:01.776Z"
   },
   {
    "duration": 19,
    "start_time": "2022-07-13T05:15:01.789Z"
   },
   {
    "duration": 17,
    "start_time": "2022-07-13T05:15:01.810Z"
   },
   {
    "duration": 26,
    "start_time": "2022-07-13T05:15:01.829Z"
   },
   {
    "duration": 23,
    "start_time": "2022-07-13T05:15:01.857Z"
   },
   {
    "duration": 23,
    "start_time": "2022-07-13T05:15:01.882Z"
   },
   {
    "duration": 15,
    "start_time": "2022-07-13T05:15:01.907Z"
   },
   {
    "duration": 19,
    "start_time": "2022-07-13T05:15:01.924Z"
   },
   {
    "duration": 19,
    "start_time": "2022-07-13T05:15:01.945Z"
   },
   {
    "duration": 18,
    "start_time": "2022-07-13T05:15:01.966Z"
   },
   {
    "duration": 10,
    "start_time": "2022-07-13T05:15:01.986Z"
   },
   {
    "duration": 17,
    "start_time": "2022-07-13T05:15:01.998Z"
   },
   {
    "duration": 126,
    "start_time": "2022-07-13T05:15:02.017Z"
   },
   {
    "duration": 0,
    "start_time": "2022-07-13T05:15:02.145Z"
   },
   {
    "duration": 0,
    "start_time": "2022-07-13T05:15:02.145Z"
   },
   {
    "duration": 0,
    "start_time": "2022-07-13T05:15:02.147Z"
   },
   {
    "duration": 0,
    "start_time": "2022-07-13T05:15:02.148Z"
   },
   {
    "duration": 0,
    "start_time": "2022-07-13T05:15:02.149Z"
   },
   {
    "duration": 0,
    "start_time": "2022-07-13T05:15:02.150Z"
   },
   {
    "duration": 0,
    "start_time": "2022-07-13T05:15:02.152Z"
   },
   {
    "duration": 0,
    "start_time": "2022-07-13T05:15:02.154Z"
   },
   {
    "duration": 91,
    "start_time": "2022-07-13T05:15:32.746Z"
   },
   {
    "duration": 73,
    "start_time": "2022-07-13T05:15:35.106Z"
   },
   {
    "duration": 9,
    "start_time": "2022-07-13T05:16:09.198Z"
   },
   {
    "duration": 71,
    "start_time": "2022-07-13T05:16:34.569Z"
   },
   {
    "duration": 17,
    "start_time": "2022-07-13T05:16:38.939Z"
   },
   {
    "duration": 10,
    "start_time": "2022-07-13T05:16:43.118Z"
   },
   {
    "duration": 14,
    "start_time": "2022-07-13T05:16:55.249Z"
   },
   {
    "duration": 47,
    "start_time": "2022-07-13T05:17:23.742Z"
   },
   {
    "duration": 21,
    "start_time": "2022-07-13T05:18:44.479Z"
   },
   {
    "duration": 8,
    "start_time": "2022-07-13T05:18:58.671Z"
   },
   {
    "duration": 14,
    "start_time": "2022-07-13T05:19:19.065Z"
   },
   {
    "duration": 11,
    "start_time": "2022-07-13T05:19:29.321Z"
   },
   {
    "duration": 9,
    "start_time": "2022-07-13T05:19:34.958Z"
   },
   {
    "duration": 11,
    "start_time": "2022-07-13T05:19:38.213Z"
   },
   {
    "duration": 456,
    "start_time": "2022-07-13T05:19:44.875Z"
   },
   {
    "duration": 187,
    "start_time": "2022-07-13T05:19:45.333Z"
   },
   {
    "duration": 24,
    "start_time": "2022-07-13T05:19:45.522Z"
   },
   {
    "duration": 63,
    "start_time": "2022-07-13T05:19:45.548Z"
   },
   {
    "duration": 3,
    "start_time": "2022-07-13T05:19:45.614Z"
   },
   {
    "duration": 15,
    "start_time": "2022-07-13T05:19:45.620Z"
   },
   {
    "duration": 25,
    "start_time": "2022-07-13T05:19:45.637Z"
   },
   {
    "duration": 14,
    "start_time": "2022-07-13T05:19:45.665Z"
   },
   {
    "duration": 54,
    "start_time": "2022-07-13T05:19:45.682Z"
   },
   {
    "duration": 23,
    "start_time": "2022-07-13T05:19:45.739Z"
   },
   {
    "duration": 48,
    "start_time": "2022-07-13T05:19:45.764Z"
   },
   {
    "duration": 87,
    "start_time": "2022-07-13T05:19:45.814Z"
   },
   {
    "duration": 100,
    "start_time": "2022-07-13T05:19:45.903Z"
   },
   {
    "duration": 84,
    "start_time": "2022-07-13T05:19:46.007Z"
   },
   {
    "duration": 49,
    "start_time": "2022-07-13T05:19:46.098Z"
   },
   {
    "duration": 96,
    "start_time": "2022-07-13T05:19:46.149Z"
   },
   {
    "duration": 38,
    "start_time": "2022-07-13T05:19:46.247Z"
   },
   {
    "duration": 11,
    "start_time": "2022-07-13T05:19:46.287Z"
   },
   {
    "duration": 5,
    "start_time": "2022-07-13T05:19:46.300Z"
   },
   {
    "duration": 9,
    "start_time": "2022-07-13T05:19:46.306Z"
   },
   {
    "duration": 7,
    "start_time": "2022-07-13T05:19:46.317Z"
   },
   {
    "duration": 5,
    "start_time": "2022-07-13T05:19:46.325Z"
   },
   {
    "duration": 4,
    "start_time": "2022-07-13T05:19:46.332Z"
   },
   {
    "duration": 4,
    "start_time": "2022-07-13T05:19:46.338Z"
   },
   {
    "duration": 11,
    "start_time": "2022-07-13T05:19:46.343Z"
   },
   {
    "duration": 6,
    "start_time": "2022-07-13T05:19:46.356Z"
   },
   {
    "duration": 40,
    "start_time": "2022-07-13T05:19:46.364Z"
   },
   {
    "duration": 5,
    "start_time": "2022-07-13T05:19:46.407Z"
   },
   {
    "duration": 5,
    "start_time": "2022-07-13T05:19:46.414Z"
   },
   {
    "duration": 112,
    "start_time": "2022-07-13T05:19:46.420Z"
   },
   {
    "duration": 0,
    "start_time": "2022-07-13T05:19:46.535Z"
   },
   {
    "duration": 0,
    "start_time": "2022-07-13T05:19:46.537Z"
   },
   {
    "duration": 0,
    "start_time": "2022-07-13T05:19:46.538Z"
   },
   {
    "duration": 1,
    "start_time": "2022-07-13T05:19:46.539Z"
   },
   {
    "duration": 0,
    "start_time": "2022-07-13T05:19:46.541Z"
   },
   {
    "duration": 0,
    "start_time": "2022-07-13T05:19:46.543Z"
   },
   {
    "duration": 0,
    "start_time": "2022-07-13T05:19:46.544Z"
   },
   {
    "duration": 0,
    "start_time": "2022-07-13T05:19:46.545Z"
   },
   {
    "duration": 82,
    "start_time": "2022-07-13T06:42:50.275Z"
   },
   {
    "duration": 54,
    "start_time": "2022-07-13T06:43:06.773Z"
   },
   {
    "duration": 39,
    "start_time": "2022-07-13T06:43:09.882Z"
   },
   {
    "duration": 56,
    "start_time": "2022-07-13T06:43:22.975Z"
   },
   {
    "duration": 17,
    "start_time": "2022-07-13T06:43:32.225Z"
   },
   {
    "duration": 55,
    "start_time": "2022-07-13T06:43:39.814Z"
   },
   {
    "duration": 12,
    "start_time": "2022-07-13T06:43:58.356Z"
   },
   {
    "duration": 10,
    "start_time": "2022-07-13T06:44:52.435Z"
   },
   {
    "duration": 11,
    "start_time": "2022-07-13T06:44:58.980Z"
   },
   {
    "duration": 25,
    "start_time": "2022-07-13T06:45:06.294Z"
   },
   {
    "duration": 9,
    "start_time": "2022-07-13T19:55:42.932Z"
   },
   {
    "duration": 44,
    "start_time": "2022-07-13T19:58:37.938Z"
   },
   {
    "duration": 4,
    "start_time": "2022-07-13T19:59:29.914Z"
   },
   {
    "duration": 8,
    "start_time": "2022-07-13T19:59:31.983Z"
   },
   {
    "duration": 2,
    "start_time": "2022-07-13T19:59:32.910Z"
   },
   {
    "duration": 3,
    "start_time": "2022-07-13T19:59:53.026Z"
   },
   {
    "duration": 3,
    "start_time": "2022-07-13T20:00:03.028Z"
   },
   {
    "duration": 5,
    "start_time": "2022-07-13T20:00:07.698Z"
   },
   {
    "duration": 382,
    "start_time": "2022-07-13T20:00:29.556Z"
   },
   {
    "duration": 200,
    "start_time": "2022-07-13T20:00:29.940Z"
   },
   {
    "duration": 16,
    "start_time": "2022-07-13T20:00:30.144Z"
   },
   {
    "duration": 25,
    "start_time": "2022-07-13T20:00:30.162Z"
   },
   {
    "duration": 3,
    "start_time": "2022-07-13T20:00:30.188Z"
   },
   {
    "duration": 7,
    "start_time": "2022-07-13T20:00:30.192Z"
   },
   {
    "duration": 13,
    "start_time": "2022-07-13T20:00:30.201Z"
   },
   {
    "duration": 27,
    "start_time": "2022-07-13T20:00:30.216Z"
   },
   {
    "duration": 30,
    "start_time": "2022-07-13T20:00:30.245Z"
   },
   {
    "duration": 18,
    "start_time": "2022-07-13T20:00:30.277Z"
   },
   {
    "duration": 23,
    "start_time": "2022-07-13T20:00:30.297Z"
   },
   {
    "duration": 74,
    "start_time": "2022-07-13T20:00:30.321Z"
   },
   {
    "duration": 77,
    "start_time": "2022-07-13T20:00:30.398Z"
   },
   {
    "duration": 67,
    "start_time": "2022-07-13T20:00:30.476Z"
   },
   {
    "duration": 36,
    "start_time": "2022-07-13T20:00:30.545Z"
   },
   {
    "duration": 80,
    "start_time": "2022-07-13T20:00:30.583Z"
   },
   {
    "duration": 38,
    "start_time": "2022-07-13T20:00:30.665Z"
   },
   {
    "duration": 11,
    "start_time": "2022-07-13T20:00:30.705Z"
   },
   {
    "duration": 31,
    "start_time": "2022-07-13T20:00:30.718Z"
   },
   {
    "duration": 6,
    "start_time": "2022-07-13T20:00:30.751Z"
   },
   {
    "duration": 39,
    "start_time": "2022-07-13T20:00:30.758Z"
   },
   {
    "duration": 9,
    "start_time": "2022-07-13T20:00:30.799Z"
   },
   {
    "duration": 12,
    "start_time": "2022-07-13T20:00:30.809Z"
   },
   {
    "duration": 12,
    "start_time": "2022-07-13T20:00:30.823Z"
   },
   {
    "duration": 18,
    "start_time": "2022-07-13T20:00:30.837Z"
   },
   {
    "duration": 20,
    "start_time": "2022-07-13T20:00:30.857Z"
   },
   {
    "duration": 24,
    "start_time": "2022-07-13T20:00:30.878Z"
   },
   {
    "duration": 17,
    "start_time": "2022-07-13T20:00:30.904Z"
   },
   {
    "duration": 12,
    "start_time": "2022-07-13T20:00:30.924Z"
   },
   {
    "duration": 56,
    "start_time": "2022-07-13T20:00:30.938Z"
   },
   {
    "duration": 0,
    "start_time": "2022-07-13T20:00:30.997Z"
   },
   {
    "duration": 0,
    "start_time": "2022-07-13T20:00:30.998Z"
   },
   {
    "duration": 0,
    "start_time": "2022-07-13T20:00:30.999Z"
   },
   {
    "duration": 0,
    "start_time": "2022-07-13T20:00:31.000Z"
   },
   {
    "duration": 1,
    "start_time": "2022-07-13T20:00:31.001Z"
   },
   {
    "duration": 0,
    "start_time": "2022-07-13T20:00:31.003Z"
   },
   {
    "duration": 0,
    "start_time": "2022-07-13T20:00:31.004Z"
   },
   {
    "duration": 0,
    "start_time": "2022-07-13T20:00:31.006Z"
   },
   {
    "duration": 8,
    "start_time": "2022-07-13T20:00:45.034Z"
   },
   {
    "duration": 4,
    "start_time": "2022-07-13T20:00:47.265Z"
   },
   {
    "duration": 8,
    "start_time": "2022-07-13T20:00:51.187Z"
   },
   {
    "duration": 7,
    "start_time": "2022-07-13T20:01:02.092Z"
   },
   {
    "duration": 4,
    "start_time": "2022-07-13T20:01:21.463Z"
   },
   {
    "duration": 11,
    "start_time": "2022-07-13T20:01:23.271Z"
   },
   {
    "duration": 10,
    "start_time": "2022-07-13T20:01:25.673Z"
   },
   {
    "duration": 8,
    "start_time": "2022-07-13T20:01:28.064Z"
   },
   {
    "duration": 4,
    "start_time": "2022-07-13T20:01:42.859Z"
   },
   {
    "duration": 3,
    "start_time": "2022-07-13T20:01:47.660Z"
   },
   {
    "duration": 76,
    "start_time": "2022-07-13T20:01:50.104Z"
   },
   {
    "duration": 4,
    "start_time": "2022-07-13T20:02:02.259Z"
   },
   {
    "duration": 968,
    "start_time": "2022-07-13T20:02:06.126Z"
   },
   {
    "duration": 5,
    "start_time": "2022-07-13T20:06:24.393Z"
   },
   {
    "duration": 7,
    "start_time": "2022-07-13T20:06:27.339Z"
   },
   {
    "duration": 9,
    "start_time": "2022-07-13T20:06:30.084Z"
   },
   {
    "duration": 16,
    "start_time": "2022-07-13T20:07:07.969Z"
   },
   {
    "duration": 14,
    "start_time": "2022-07-13T20:07:33.505Z"
   },
   {
    "duration": 15,
    "start_time": "2022-07-13T20:07:45.158Z"
   },
   {
    "duration": 13,
    "start_time": "2022-07-13T20:07:58.357Z"
   },
   {
    "duration": 17,
    "start_time": "2022-07-13T20:08:09.777Z"
   },
   {
    "duration": 14,
    "start_time": "2022-07-13T20:08:20.508Z"
   },
   {
    "duration": 16,
    "start_time": "2022-07-13T20:11:28.658Z"
   },
   {
    "duration": 8,
    "start_time": "2022-07-13T20:12:10.452Z"
   },
   {
    "duration": 7,
    "start_time": "2022-07-13T20:12:19.904Z"
   },
   {
    "duration": 7,
    "start_time": "2022-07-13T20:13:18.261Z"
   },
   {
    "duration": 8,
    "start_time": "2022-07-13T20:13:28.563Z"
   },
   {
    "duration": 7,
    "start_time": "2022-07-13T20:13:39.934Z"
   },
   {
    "duration": 9,
    "start_time": "2022-07-13T20:13:46.580Z"
   },
   {
    "duration": 8,
    "start_time": "2022-07-13T20:14:29.624Z"
   },
   {
    "duration": 7,
    "start_time": "2022-07-13T20:14:50.032Z"
   },
   {
    "duration": 8,
    "start_time": "2022-07-13T20:32:53.944Z"
   },
   {
    "duration": 9,
    "start_time": "2022-07-13T20:34:36.160Z"
   },
   {
    "duration": 9,
    "start_time": "2022-07-13T20:34:52.656Z"
   },
   {
    "duration": 19,
    "start_time": "2022-07-13T20:35:04.495Z"
   },
   {
    "duration": 7,
    "start_time": "2022-07-13T20:35:14.675Z"
   },
   {
    "duration": 6,
    "start_time": "2022-07-13T20:35:22.145Z"
   },
   {
    "duration": 8,
    "start_time": "2022-07-13T20:35:27.604Z"
   },
   {
    "duration": 60,
    "start_time": "2022-07-13T20:39:40.037Z"
   },
   {
    "duration": 46,
    "start_time": "2022-07-13T20:39:46.258Z"
   },
   {
    "duration": 57,
    "start_time": "2022-07-13T20:39:55.903Z"
   },
   {
    "duration": 9,
    "start_time": "2022-07-13T20:40:01.191Z"
   },
   {
    "duration": 13,
    "start_time": "2022-07-13T20:40:20.591Z"
   },
   {
    "duration": 8,
    "start_time": "2022-07-13T20:40:25.224Z"
   },
   {
    "duration": 8,
    "start_time": "2022-07-13T20:40:34.754Z"
   },
   {
    "duration": 71,
    "start_time": "2022-07-13T20:43:38.489Z"
   },
   {
    "duration": 72,
    "start_time": "2022-07-13T20:43:53.498Z"
   },
   {
    "duration": 8,
    "start_time": "2022-07-13T20:44:17.857Z"
   },
   {
    "duration": 13,
    "start_time": "2022-07-13T20:45:50.073Z"
   },
   {
    "duration": 8,
    "start_time": "2022-07-13T20:45:58.722Z"
   },
   {
    "duration": 52,
    "start_time": "2022-07-14T06:39:23.177Z"
   },
   {
    "duration": 418,
    "start_time": "2022-07-14T06:39:36.075Z"
   },
   {
    "duration": 524,
    "start_time": "2022-07-14T06:39:36.496Z"
   },
   {
    "duration": 17,
    "start_time": "2022-07-14T06:39:37.022Z"
   },
   {
    "duration": 27,
    "start_time": "2022-07-14T06:39:37.041Z"
   },
   {
    "duration": 3,
    "start_time": "2022-07-14T06:39:37.069Z"
   },
   {
    "duration": 7,
    "start_time": "2022-07-14T06:39:37.073Z"
   },
   {
    "duration": 29,
    "start_time": "2022-07-14T06:39:37.082Z"
   },
   {
    "duration": 10,
    "start_time": "2022-07-14T06:39:37.114Z"
   },
   {
    "duration": 26,
    "start_time": "2022-07-14T06:39:37.125Z"
   },
   {
    "duration": 23,
    "start_time": "2022-07-14T06:39:37.153Z"
   },
   {
    "duration": 36,
    "start_time": "2022-07-14T06:39:37.178Z"
   },
   {
    "duration": 78,
    "start_time": "2022-07-14T06:39:37.216Z"
   },
   {
    "duration": 86,
    "start_time": "2022-07-14T06:39:37.295Z"
   },
   {
    "duration": 77,
    "start_time": "2022-07-14T06:39:37.383Z"
   },
   {
    "duration": 49,
    "start_time": "2022-07-14T06:39:37.461Z"
   },
   {
    "duration": 63,
    "start_time": "2022-07-14T06:39:37.512Z"
   },
   {
    "duration": 58,
    "start_time": "2022-07-14T06:39:37.577Z"
   },
   {
    "duration": 12,
    "start_time": "2022-07-14T06:39:37.636Z"
   },
   {
    "duration": 12,
    "start_time": "2022-07-14T06:39:37.649Z"
   },
   {
    "duration": 18,
    "start_time": "2022-07-14T06:39:37.662Z"
   },
   {
    "duration": 44,
    "start_time": "2022-07-14T06:39:37.682Z"
   },
   {
    "duration": 14,
    "start_time": "2022-07-14T06:39:37.728Z"
   },
   {
    "duration": 15,
    "start_time": "2022-07-14T06:39:37.744Z"
   },
   {
    "duration": 50,
    "start_time": "2022-07-14T06:39:37.761Z"
   },
   {
    "duration": 20,
    "start_time": "2022-07-14T06:39:37.814Z"
   },
   {
    "duration": 14,
    "start_time": "2022-07-14T06:39:37.836Z"
   },
   {
    "duration": 9,
    "start_time": "2022-07-14T06:39:37.852Z"
   },
   {
    "duration": 39,
    "start_time": "2022-07-14T06:39:37.865Z"
   },
   {
    "duration": 13,
    "start_time": "2022-07-14T06:39:37.907Z"
   },
   {
    "duration": 76,
    "start_time": "2022-07-14T06:39:37.921Z"
   },
   {
    "duration": 0,
    "start_time": "2022-07-14T06:39:37.999Z"
   },
   {
    "duration": 0,
    "start_time": "2022-07-14T06:39:38.000Z"
   },
   {
    "duration": 0,
    "start_time": "2022-07-14T06:39:38.002Z"
   },
   {
    "duration": 0,
    "start_time": "2022-07-14T06:39:38.003Z"
   },
   {
    "duration": 0,
    "start_time": "2022-07-14T06:39:38.005Z"
   },
   {
    "duration": 0,
    "start_time": "2022-07-14T06:39:38.006Z"
   },
   {
    "duration": 0,
    "start_time": "2022-07-14T06:39:38.007Z"
   },
   {
    "duration": 0,
    "start_time": "2022-07-14T06:39:38.009Z"
   },
   {
    "duration": 13,
    "start_time": "2022-07-14T06:39:44.596Z"
   },
   {
    "duration": 12,
    "start_time": "2022-07-14T06:39:45.726Z"
   },
   {
    "duration": 4,
    "start_time": "2022-07-14T06:42:53.365Z"
   },
   {
    "duration": 88,
    "start_time": "2022-07-14T06:43:15.900Z"
   },
   {
    "duration": 6,
    "start_time": "2022-07-14T06:43:43.145Z"
   },
   {
    "duration": 18,
    "start_time": "2022-07-14T06:43:46.432Z"
   },
   {
    "duration": 4,
    "start_time": "2022-07-14T06:43:57.096Z"
   },
   {
    "duration": 20,
    "start_time": "2022-07-14T06:44:00.043Z"
   },
   {
    "duration": 5,
    "start_time": "2022-07-14T06:44:43.821Z"
   },
   {
    "duration": 20,
    "start_time": "2022-07-14T06:44:47.182Z"
   },
   {
    "duration": 4,
    "start_time": "2022-07-14T06:44:53.177Z"
   },
   {
    "duration": 21,
    "start_time": "2022-07-14T06:44:55.191Z"
   },
   {
    "duration": 20,
    "start_time": "2022-07-14T06:45:12.485Z"
   },
   {
    "duration": 25,
    "start_time": "2022-07-14T06:45:19.067Z"
   },
   {
    "duration": 7,
    "start_time": "2022-07-14T06:45:34.489Z"
   },
   {
    "duration": 28,
    "start_time": "2022-07-14T06:45:40.124Z"
   },
   {
    "duration": 27,
    "start_time": "2022-07-14T06:46:15.139Z"
   },
   {
    "duration": 7,
    "start_time": "2022-07-14T06:46:17.320Z"
   },
   {
    "duration": 21,
    "start_time": "2022-07-14T06:46:19.946Z"
   },
   {
    "duration": 5,
    "start_time": "2022-07-14T06:46:36.129Z"
   },
   {
    "duration": 30,
    "start_time": "2022-07-14T06:46:38.580Z"
   },
   {
    "duration": 377,
    "start_time": "2022-07-14T06:46:49.528Z"
   },
   {
    "duration": 185,
    "start_time": "2022-07-14T06:46:49.907Z"
   },
   {
    "duration": 21,
    "start_time": "2022-07-14T06:46:50.094Z"
   },
   {
    "duration": 33,
    "start_time": "2022-07-14T06:46:50.117Z"
   },
   {
    "duration": 7,
    "start_time": "2022-07-14T06:46:50.152Z"
   },
   {
    "duration": 22,
    "start_time": "2022-07-14T06:46:50.160Z"
   },
   {
    "duration": 25,
    "start_time": "2022-07-14T06:46:50.184Z"
   },
   {
    "duration": 16,
    "start_time": "2022-07-14T06:46:50.210Z"
   },
   {
    "duration": 30,
    "start_time": "2022-07-14T06:46:50.227Z"
   },
   {
    "duration": 17,
    "start_time": "2022-07-14T06:46:50.260Z"
   },
   {
    "duration": 25,
    "start_time": "2022-07-14T06:46:50.279Z"
   },
   {
    "duration": 60,
    "start_time": "2022-07-14T06:46:50.306Z"
   },
   {
    "duration": 92,
    "start_time": "2022-07-14T06:46:50.367Z"
   },
   {
    "duration": 72,
    "start_time": "2022-07-14T06:46:50.461Z"
   },
   {
    "duration": 34,
    "start_time": "2022-07-14T06:46:50.535Z"
   },
   {
    "duration": 78,
    "start_time": "2022-07-14T06:46:50.571Z"
   },
   {
    "duration": 35,
    "start_time": "2022-07-14T06:46:50.651Z"
   },
   {
    "duration": 23,
    "start_time": "2022-07-14T06:46:50.688Z"
   },
   {
    "duration": 10,
    "start_time": "2022-07-14T06:46:50.713Z"
   },
   {
    "duration": 3,
    "start_time": "2022-07-14T06:46:50.725Z"
   },
   {
    "duration": 30,
    "start_time": "2022-07-14T06:46:50.730Z"
   },
   {
    "duration": 44,
    "start_time": "2022-07-14T06:46:50.761Z"
   },
   {
    "duration": 15,
    "start_time": "2022-07-14T06:46:50.806Z"
   },
   {
    "duration": 13,
    "start_time": "2022-07-14T06:46:50.823Z"
   },
   {
    "duration": 17,
    "start_time": "2022-07-14T06:46:50.837Z"
   },
   {
    "duration": 53,
    "start_time": "2022-07-14T06:46:50.857Z"
   },
   {
    "duration": 11,
    "start_time": "2022-07-14T06:46:50.912Z"
   },
   {
    "duration": 24,
    "start_time": "2022-07-14T06:46:50.926Z"
   },
   {
    "duration": 15,
    "start_time": "2022-07-14T06:46:50.952Z"
   },
   {
    "duration": 6,
    "start_time": "2022-07-14T06:46:50.969Z"
   },
   {
    "duration": 131,
    "start_time": "2022-07-14T06:46:50.976Z"
   },
   {
    "duration": 0,
    "start_time": "2022-07-14T06:46:51.108Z"
   },
   {
    "duration": 0,
    "start_time": "2022-07-14T06:46:51.110Z"
   },
   {
    "duration": 0,
    "start_time": "2022-07-14T06:46:51.112Z"
   },
   {
    "duration": 0,
    "start_time": "2022-07-14T06:46:51.113Z"
   },
   {
    "duration": 0,
    "start_time": "2022-07-14T06:46:51.115Z"
   },
   {
    "duration": 0,
    "start_time": "2022-07-14T06:46:51.117Z"
   },
   {
    "duration": 0,
    "start_time": "2022-07-14T06:46:51.118Z"
   },
   {
    "duration": 23,
    "start_time": "2022-07-14T06:47:02.575Z"
   },
   {
    "duration": 23,
    "start_time": "2022-07-14T06:47:07.446Z"
   },
   {
    "duration": 32,
    "start_time": "2022-07-14T06:47:46.511Z"
   },
   {
    "duration": 4,
    "start_time": "2022-07-14T06:48:53.642Z"
   },
   {
    "duration": 20,
    "start_time": "2022-07-14T06:48:59.317Z"
   },
   {
    "duration": 4,
    "start_time": "2022-07-14T06:49:23.815Z"
   },
   {
    "duration": 28,
    "start_time": "2022-07-14T06:49:26.552Z"
   },
   {
    "duration": 4,
    "start_time": "2022-07-14T06:50:05.583Z"
   },
   {
    "duration": 20,
    "start_time": "2022-07-14T06:50:07.384Z"
   },
   {
    "duration": 4,
    "start_time": "2022-07-14T06:50:29.431Z"
   },
   {
    "duration": 22,
    "start_time": "2022-07-14T06:50:31.298Z"
   },
   {
    "duration": 6,
    "start_time": "2022-07-14T06:50:46.130Z"
   },
   {
    "duration": 22,
    "start_time": "2022-07-14T06:50:48.221Z"
   },
   {
    "duration": 6,
    "start_time": "2022-07-14T06:51:26.925Z"
   },
   {
    "duration": 1543,
    "start_time": "2022-07-14T06:51:27.796Z"
   },
   {
    "duration": 1576,
    "start_time": "2022-07-14T06:51:30.794Z"
   },
   {
    "duration": 4,
    "start_time": "2022-07-14T06:52:29.677Z"
   },
   {
    "duration": 40,
    "start_time": "2022-07-14T06:52:31.878Z"
   },
   {
    "duration": 6,
    "start_time": "2022-07-14T06:52:36.500Z"
   },
   {
    "duration": 23,
    "start_time": "2022-07-14T06:52:40.252Z"
   },
   {
    "duration": 25,
    "start_time": "2022-07-14T06:53:05.100Z"
   },
   {
    "duration": 25,
    "start_time": "2022-07-14T06:53:15.159Z"
   },
   {
    "duration": 6,
    "start_time": "2022-07-14T06:55:11.303Z"
   },
   {
    "duration": 19,
    "start_time": "2022-07-14T06:55:13.973Z"
   },
   {
    "duration": 4,
    "start_time": "2022-07-14T06:56:08.720Z"
   },
   {
    "duration": 21,
    "start_time": "2022-07-14T06:56:13.148Z"
   },
   {
    "duration": 4,
    "start_time": "2022-07-14T06:56:21.159Z"
   },
   {
    "duration": 16,
    "start_time": "2022-07-14T06:56:22.659Z"
   },
   {
    "duration": 5,
    "start_time": "2022-07-14T06:56:40.916Z"
   },
   {
    "duration": 16,
    "start_time": "2022-07-14T06:56:42.313Z"
   },
   {
    "duration": 23,
    "start_time": "2022-07-14T06:57:01.011Z"
   },
   {
    "duration": 15,
    "start_time": "2022-07-14T06:57:08.933Z"
   },
   {
    "duration": 12,
    "start_time": "2022-07-14T06:57:20.469Z"
   },
   {
    "duration": 17,
    "start_time": "2022-07-14T06:57:41.167Z"
   },
   {
    "duration": 15,
    "start_time": "2022-07-14T06:57:52.148Z"
   },
   {
    "duration": 38,
    "start_time": "2022-07-14T06:59:31.427Z"
   },
   {
    "duration": 44,
    "start_time": "2022-07-14T06:59:47.912Z"
   },
   {
    "duration": 61,
    "start_time": "2022-07-14T06:59:50.748Z"
   },
   {
    "duration": 64,
    "start_time": "2022-07-14T07:00:01.982Z"
   },
   {
    "duration": 39,
    "start_time": "2022-07-14T07:00:17.289Z"
   },
   {
    "duration": 23,
    "start_time": "2022-07-14T07:00:29.897Z"
   },
   {
    "duration": 12,
    "start_time": "2022-07-14T07:00:34.348Z"
   },
   {
    "duration": 14,
    "start_time": "2022-07-14T07:00:46.214Z"
   },
   {
    "duration": 11,
    "start_time": "2022-07-14T07:00:56.378Z"
   },
   {
    "duration": 10,
    "start_time": "2022-07-14T07:01:02.669Z"
   },
   {
    "duration": 9,
    "start_time": "2022-07-14T07:01:35.411Z"
   },
   {
    "duration": 10,
    "start_time": "2022-07-14T07:02:29.916Z"
   },
   {
    "duration": 7,
    "start_time": "2022-07-14T07:02:35.785Z"
   },
   {
    "duration": 6,
    "start_time": "2022-07-14T07:02:36.685Z"
   },
   {
    "duration": 48,
    "start_time": "2022-07-14T09:46:06.571Z"
   },
   {
    "duration": 414,
    "start_time": "2022-07-14T09:46:20.635Z"
   },
   {
    "duration": 235,
    "start_time": "2022-07-14T09:46:21.052Z"
   },
   {
    "duration": 18,
    "start_time": "2022-07-14T09:46:21.289Z"
   },
   {
    "duration": 31,
    "start_time": "2022-07-14T09:46:21.308Z"
   },
   {
    "duration": 3,
    "start_time": "2022-07-14T09:46:21.347Z"
   },
   {
    "duration": 8,
    "start_time": "2022-07-14T09:46:21.351Z"
   },
   {
    "duration": 16,
    "start_time": "2022-07-14T09:46:21.361Z"
   },
   {
    "duration": 7,
    "start_time": "2022-07-14T09:46:21.379Z"
   },
   {
    "duration": 29,
    "start_time": "2022-07-14T09:46:21.387Z"
   },
   {
    "duration": 52,
    "start_time": "2022-07-14T09:46:21.418Z"
   },
   {
    "duration": 43,
    "start_time": "2022-07-14T09:46:21.473Z"
   },
   {
    "duration": 78,
    "start_time": "2022-07-14T09:46:21.517Z"
   },
   {
    "duration": 86,
    "start_time": "2022-07-14T09:46:21.597Z"
   },
   {
    "duration": 68,
    "start_time": "2022-07-14T09:46:21.686Z"
   },
   {
    "duration": 40,
    "start_time": "2022-07-14T09:46:21.756Z"
   },
   {
    "duration": 84,
    "start_time": "2022-07-14T09:46:21.798Z"
   },
   {
    "duration": 41,
    "start_time": "2022-07-14T09:46:21.884Z"
   },
   {
    "duration": 24,
    "start_time": "2022-07-14T09:46:21.927Z"
   },
   {
    "duration": 16,
    "start_time": "2022-07-14T09:46:21.953Z"
   },
   {
    "duration": 3,
    "start_time": "2022-07-14T09:46:21.971Z"
   },
   {
    "duration": 30,
    "start_time": "2022-07-14T09:46:21.976Z"
   },
   {
    "duration": 14,
    "start_time": "2022-07-14T09:46:22.008Z"
   },
   {
    "duration": 35,
    "start_time": "2022-07-14T09:46:22.024Z"
   },
   {
    "duration": 17,
    "start_time": "2022-07-14T09:46:22.061Z"
   },
   {
    "duration": 19,
    "start_time": "2022-07-14T09:46:22.080Z"
   },
   {
    "duration": 46,
    "start_time": "2022-07-14T09:46:22.101Z"
   },
   {
    "duration": 9,
    "start_time": "2022-07-14T09:46:22.148Z"
   },
   {
    "duration": 25,
    "start_time": "2022-07-14T09:46:22.159Z"
   },
   {
    "duration": 27,
    "start_time": "2022-07-14T09:46:22.186Z"
   },
   {
    "duration": 5,
    "start_time": "2022-07-14T09:46:22.215Z"
   },
   {
    "duration": 23,
    "start_time": "2022-07-14T09:46:22.222Z"
   },
   {
    "duration": 11,
    "start_time": "2022-07-14T09:46:22.246Z"
   },
   {
    "duration": 17,
    "start_time": "2022-07-14T09:46:22.258Z"
   },
   {
    "duration": 13,
    "start_time": "2022-07-14T09:46:22.276Z"
   },
   {
    "duration": 8,
    "start_time": "2022-07-14T09:46:22.290Z"
   },
   {
    "duration": 7,
    "start_time": "2022-07-14T09:46:22.299Z"
   },
   {
    "duration": 37,
    "start_time": "2022-07-14T09:46:22.308Z"
   },
   {
    "duration": 4,
    "start_time": "2022-07-14T09:46:22.348Z"
   },
   {
    "duration": 100,
    "start_time": "2022-07-14T09:47:18.641Z"
   },
   {
    "duration": 40,
    "start_time": "2022-07-14T10:03:30.263Z"
   },
   {
    "duration": 6,
    "start_time": "2022-07-14T10:03:35.591Z"
   },
   {
    "duration": 345,
    "start_time": "2022-07-14T10:03:42.032Z"
   },
   {
    "duration": 410,
    "start_time": "2022-07-14T10:03:42.379Z"
   },
   {
    "duration": 14,
    "start_time": "2022-07-14T10:03:42.790Z"
   },
   {
    "duration": 37,
    "start_time": "2022-07-14T10:03:42.805Z"
   },
   {
    "duration": 10,
    "start_time": "2022-07-14T10:03:42.843Z"
   },
   {
    "duration": 28,
    "start_time": "2022-07-14T10:03:42.854Z"
   },
   {
    "duration": 19,
    "start_time": "2022-07-14T10:03:42.883Z"
   },
   {
    "duration": 19,
    "start_time": "2022-07-14T10:03:42.903Z"
   },
   {
    "duration": 35,
    "start_time": "2022-07-14T10:03:42.923Z"
   },
   {
    "duration": 23,
    "start_time": "2022-07-14T10:03:42.960Z"
   },
   {
    "duration": 25,
    "start_time": "2022-07-14T10:03:42.984Z"
   },
   {
    "duration": 64,
    "start_time": "2022-07-14T10:03:43.010Z"
   },
   {
    "duration": 67,
    "start_time": "2022-07-14T10:03:43.076Z"
   },
   {
    "duration": 50,
    "start_time": "2022-07-14T10:03:43.144Z"
   },
   {
    "duration": 31,
    "start_time": "2022-07-14T10:03:43.202Z"
   },
   {
    "duration": 80,
    "start_time": "2022-07-14T10:03:43.235Z"
   },
   {
    "duration": 31,
    "start_time": "2022-07-14T10:03:43.316Z"
   },
   {
    "duration": 27,
    "start_time": "2022-07-14T10:03:43.349Z"
   },
   {
    "duration": 24,
    "start_time": "2022-07-14T10:03:43.377Z"
   },
   {
    "duration": 20,
    "start_time": "2022-07-14T10:03:43.403Z"
   },
   {
    "duration": 49,
    "start_time": "2022-07-14T10:03:43.424Z"
   },
   {
    "duration": 18,
    "start_time": "2022-07-14T10:03:43.475Z"
   },
   {
    "duration": 34,
    "start_time": "2022-07-14T10:03:43.495Z"
   },
   {
    "duration": 34,
    "start_time": "2022-07-14T10:03:43.530Z"
   },
   {
    "duration": 14,
    "start_time": "2022-07-14T10:03:43.565Z"
   },
   {
    "duration": 24,
    "start_time": "2022-07-14T10:03:43.581Z"
   },
   {
    "duration": 14,
    "start_time": "2022-07-14T10:03:43.606Z"
   },
   {
    "duration": 25,
    "start_time": "2022-07-14T10:03:43.622Z"
   },
   {
    "duration": 24,
    "start_time": "2022-07-14T10:03:43.648Z"
   },
   {
    "duration": 18,
    "start_time": "2022-07-14T10:03:43.673Z"
   },
   {
    "duration": 28,
    "start_time": "2022-07-14T10:03:43.693Z"
   },
   {
    "duration": 11,
    "start_time": "2022-07-14T10:03:43.722Z"
   },
   {
    "duration": 31,
    "start_time": "2022-07-14T10:03:43.735Z"
   },
   {
    "duration": 19,
    "start_time": "2022-07-14T10:03:43.767Z"
   },
   {
    "duration": 16,
    "start_time": "2022-07-14T10:03:43.788Z"
   },
   {
    "duration": 18,
    "start_time": "2022-07-14T10:03:43.806Z"
   },
   {
    "duration": 31,
    "start_time": "2022-07-14T10:03:43.825Z"
   },
   {
    "duration": 14,
    "start_time": "2022-07-14T10:03:43.857Z"
   },
   {
    "duration": 4,
    "start_time": "2022-07-14T10:03:51.351Z"
   }
  ],
  "colab": {
   "collapsed_sections": [
    "E0vqbgi9ay0H",
    "VUC88oWjTJw2"
   ],
   "name": "automatization_template_upd4.ipynb",
   "provenance": []
  },
  "kernelspec": {
   "display_name": "Python 3 (ipykernel)",
   "language": "python",
   "name": "python3"
  },
  "language_info": {
   "codemirror_mode": {
    "name": "ipython",
    "version": 3
   },
   "file_extension": ".py",
   "mimetype": "text/x-python",
   "name": "python",
   "nbconvert_exporter": "python",
   "pygments_lexer": "ipython3",
   "version": "3.9.12"
  },
  "toc": {
   "base_numbering": 1,
   "nav_menu": {
    "height": "215px",
    "width": "403px"
   },
   "number_sections": true,
   "sideBar": true,
   "skip_h1_title": true,
   "title_cell": "Table of Contents",
   "title_sidebar": "Contents",
   "toc_cell": false,
   "toc_position": {
    "height": "calc(100% - 180px)",
    "left": "10px",
    "top": "150px",
    "width": "285.825px"
   },
   "toc_section_display": true,
   "toc_window_display": false
  }
 },
 "nbformat": 4,
 "nbformat_minor": 1
}
